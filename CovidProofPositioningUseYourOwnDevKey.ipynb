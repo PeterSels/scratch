{
 "cells": [
  {
   "cell_type": "markdown",
   "metadata": {},
   "source": [
    "# Covid Proof Table Positioning"
   ]
  },
  {
   "cell_type": "code",
   "execution_count": 1,
   "metadata": {},
   "outputs": [],
   "source": [
    "# We base ourselves on the paper of Goncalves et al. at:\n",
    "# https://doi.org/10.1016/j.ejor.2020.04.028\n",
    "# This is a MIP formulation, which we will convert to a QUBO formulation for execution on a dwave machine.\n",
    "# A QUBO is a Quadratic Unconstrainted Binary Optimisation problem. \n",
    "# All variables are binaries,\n",
    "# (or sometime integers composed out of binaries, encoded in a particular way (one hot or as an unsigned int, etc.))\n",
    "# They occur either as linear terms or quadratic terms (but note that x = x^2 for binary x).\n",
    "# They are unconstrained, so only the objective function has to be formulated.\n",
    "# When transforming from a MIP with constraints, the constraints have to be converted \n",
    "# into (weight balanced) terms in the objective function.\n",
    "# For this conversion, we use the pyqubo library, at https://pyqubo.readthedocs.io/en/latest/\n",
    "# which was written by recruit-communications. The resulting qubo datastructure \n",
    "# can be sent to a dwave computer to be solved.\n",
    "# Some principles of the basics of the conversion principles of the pyqubo library are explained at:\n",
    "# http://www.optimization-online.org/DB_FILE/2018/11/6923.pdfimport math\n",
    "\n",
    "# The objective function of the MIP is: \n",
    "# sum_{i=1}^N   sum_{t=1}^{T}  V^t I_{i}^{t}, \n",
    "# where T is the set of table types,\n",
    "# N^t is the nymber of table of type t,\n",
    "# N is the total number of tables of any (generic) type (N = max_t{N^t})\n",
    "# V^t is the value of each placed table of type t \n",
    "# and I_{i}^{t} is the boolean variable that is 1 if table i is of type t and placed in the room, otherwise it's 0."
   ]
  },
  {
   "cell_type": "code",
   "execution_count": 2,
   "metadata": {},
   "outputs": [],
   "source": [
    "import math \n",
    "import pprint\n",
    "\n",
    "cfg = { 'room': {'dy':10, 'dx': 14},\n",
    "        'rectangle_types': {'short': {'dy': 1.2, 'dx':2.2, 'value':2.0, \n",
    "                                  'max_number':5, 'angles':[0, 90]}, # 1st table type\n",
    "                            #'long': {'dy': 0.8, 'dx':3.0, 'value':4.0, \n",
    "                            #     'max_number':3, 'angles':[0, 90]}, # 2nd table type\n",
    "                           },\n",
    "       }\n",
    "\n",
    "# we reduce the problem to stay below 119 qubits.\n",
    "cfg = { 'room': {'dy':5, 'dx': 2},\n",
    "        'rectangle_types': {'short': {'dy': 1.2, 'dx':2.2, 'value':2.0, \n",
    "                                  'max_number':2, 'angles':[0, 90]}, # 1st table type\n",
    "                            #'long': {'dy': 0.8, 'dx':3.0, 'value':4.0, \n",
    "                            #     'max_number':3, 'angles':[0, 90]}, # 2nd table type\n",
    "                           },\n",
    "       }"
   ]
  },
  {
   "cell_type": "code",
   "execution_count": 3,
   "metadata": {},
   "outputs": [
    {
     "name": "stdout",
     "output_type": "stream",
     "text": [
      "n_x_steps=20 is the number of steps for the room-range horizontal x coordinate variable of each table.\n",
      "n_y_steps=50 is the number of steps for the room-range vertical y coordinate variable of each table.\n"
     ]
    }
   ],
   "source": [
    "resolution_in_m = 0.1  \n",
    "# The finer the resolution, the more bits needed, so this will be one control parameter\n",
    "# that allows to scale the needed bits up or down when possible resp. needed.\n",
    "n_x_steps = math.ceil(cfg['room']['dx'] / resolution_in_m)\n",
    "n_y_steps = math.ceil(cfg['room']['dy'] / resolution_in_m)\n",
    "print('n_x_steps={:d} is the number of steps for the room-range horizontal x coordinate variable of each table.'.format(n_x_steps))\n",
    "print('n_y_steps={:d} is the number of steps for the room-range vertical y coordinate variable of each table.'.format(n_y_steps))\n",
    "#n_bits_y = math.ceil(math.log(n_y_steps, 2))\n",
    "#n_bits_x = math.ceil(math.log(n_x_steps, 2))\n",
    "#print(n_y_steps, n_bits_y, n_x_steps, n_bits_x)"
   ]
  },
  {
   "cell_type": "code",
   "execution_count": 4,
   "metadata": {},
   "outputs": [
    {
     "name": "stdout",
     "output_type": "stream",
     "text": [
      "N=2 is the maximum number of potentially placeble tables for all table types summed together.\n",
      "Wt_max=2.200000 is the maximum width amongst all table types.\n",
      "Ht_max=1.200000 is the maximum width amongst all table types.\n",
      "max_mip_obj=4.000000 is (an upperbound for) the maximum value the objective could ever reach.\n",
      "P=40.000000 is the penalty weight factor we weight all MIP constraints (so other QUBO obj terms) with.\n",
      "n_w_steps=22 is the number of steps for the table-range horizontal w size variable of each table.\n",
      "n_h_steps=12 is the number of steps for the table_range vertical h size variable of each table.\n"
     ]
    }
   ],
   "source": [
    "from pyqubo import LogEncInteger, Binary, Constraint\n",
    "\n",
    "import dimod\n",
    "\n",
    "# room parameters:\n",
    "W = cfg['room']['dx']\n",
    "H = cfg['room']['dy']\n",
    "\n",
    "# table type parameters:\n",
    "Wt = {}\n",
    "Ht = {}\n",
    "Vt = {}\n",
    "Nt = {}\n",
    "N = 0\n",
    "Wt_max = 0\n",
    "Ht_max = 0\n",
    "max_mip_obj = 0\n",
    "for (t, (_, table_type)) in enumerate(cfg['rectangle_types'].items()):\n",
    "    Wt[t] = table_type['dx']\n",
    "    Ht[t] = table_type['dy']\n",
    "    Vt[t] = table_type['value']\n",
    "    Nt[t] = table_type['max_number']\n",
    "    N += Nt[t]\n",
    "    Wt_max = max(Wt_max, Wt[t])  # TODO: Not doing anything with 90 degree rotation yet.\n",
    "    Ht_max = max(Ht_max, Ht[t])  # TODO: Not doing anything with 90 degree rotation yet.\n",
    "    max_mip_obj += Nt[t] * Vt[t]  # supposing all tables can fit.\n",
    "print('N={:d} is the maximum number of potentially placeble tables for all table types summed together.'.format(N))\n",
    "print('Wt_max={:f} is the maximum width amongst all table types.'.format(Wt_max))\n",
    "print('Ht_max={:f} is the maximum width amongst all table types.'.format(Ht_max))\n",
    "print('max_mip_obj={:f} is (an upperbound for) the maximum value the objective could ever reach.'.format(max_mip_obj))\n",
    "P = max_mip_obj * 10   # we set the penaly P to this value so that hard MIP constraints,\n",
    "# present in the QUBO model as terms in the QUBO objective to be minimised, are more highly weighted that the\n",
    "# value the objective can reach.\n",
    "print('P={:f} is the penalty weight factor we weight all MIP constraints (so other QUBO obj terms) with.'.format(P))\n",
    "\n",
    "\n",
    "# Create the problem variables.\n",
    "# We call the Goncalves paper 'I' boolean variables 'b' here instead.\n",
    "b = {}  \n",
    "# The rest of the naming is consistent with the Goncalves paper.\n",
    "x = {}\n",
    "y = {}\n",
    "        \n",
    "n_w_steps = math.ceil(Wt_max / resolution_in_m)\n",
    "n_h_steps = math.ceil(Ht_max / resolution_in_m)\n",
    "print('n_w_steps={:d} is the number of steps for the table-range horizontal w size variable of each table.'.format(n_w_steps))\n",
    "print('n_h_steps={:d} is the number of steps for the table_range vertical h size variable of each table.'.format(n_h_steps))"
   ]
  },
  {
   "cell_type": "code",
   "execution_count": 5,
   "metadata": {},
   "outputs": [],
   "source": [
    "# Create all the variables.\n",
    "\n",
    "p = {}  # (i,j) bin\n",
    "q = {}  # (i,j) bin\n",
    "w = {}  # (i) int\n",
    "h = {}  # (i) int\n",
    "s2x = {}  # (i,j) int\n",
    "s3x = {}  # (i,j) int\n",
    "s4y = {}  # (i,j) int\n",
    "s5y = {}  # (i,j) int\n",
    "s10xL = {} # (i) int\n",
    "s10xR = {} # (i) int\n",
    "s11yL = {} # (i) int\n",
    "s11yR = {} # (i) int\n",
    "s12 = {}  # (i) bin\n",
    "\n",
    "for i in range(N):\n",
    "    for (t, (table_type_name, table_type)) in enumerate(cfg['rectangle_types'].items()):\n",
    "        b[(i,t)] = Binary('b_{:d}_{:d}'.format(i,t))\n",
    "        \n",
    "    x[i] = LogEncInteger('x_{:d}'.format(i), (0, n_x_steps-1))\n",
    "    y[i] = LogEncInteger('y_{:d}'.format(i), (0, n_y_steps-1))\n",
    "    w[i] = LogEncInteger('w_{:d}'.format(i), (0, n_w_steps-1))\n",
    "    h[i] = LogEncInteger('h_{:d}'.format(i), (0, n_h_steps-1))\n",
    "    s10xL[i] = LogEncInteger('s10xL_{:d}'.format(i), (0, n_x_steps-1))\n",
    "    s10xR[i] = LogEncInteger('s10xR_{:d}'.format(i), (0, n_x_steps-1))\n",
    "    s11yL[i] = LogEncInteger('s11yL_{:d}'.format(i), (0, n_y_steps-1))\n",
    "    s11yR[i] = LogEncInteger('s11yR_{:d}'.format(i), (0, n_y_steps-1))\n",
    "    s12[i] = Binary('s12_{:d}'.format(i))\n",
    "\n",
    "    for j in range(i+1, N):\n",
    "        assert i < j\n",
    "        p[(i,j)] = Binary('p_{:d}_{:d}'.format(i,j))\n",
    "        q[(i,j)] = Binary('q_{:d}_{:d}'.format(i,j))   \n",
    "        s2x[(i,j)] = LogEncInteger('s2x_{:d}_{:d}'.format(i,j), (0, n_x_steps-1))\n",
    "        s3x[(i,j)] = LogEncInteger('s3x_{:d}_{:d}'.format(i,j), (0, n_x_steps-1))\n",
    "        s4y[(i,j)] = LogEncInteger('s4y_{:d}_{:d}'.format(i,j), (0, n_y_steps-1))\n",
    "        s5y[(i,j)] = LogEncInteger('s5y_{:d}_{:d}'.format(i,j), (0, n_y_steps-1))\n",
    "        \n",
    "s15 = {} # (t) int\n",
    "for (t, (_, _)) in enumerate(cfg['rectangle_types'].items()):\n",
    "    s15[t] = LogEncInteger('s15_{:d}'.format(t), (0, Nt[t]-1))"
   ]
  },
  {
   "cell_type": "code",
   "execution_count": 6,
   "metadata": {},
   "outputs": [],
   "source": [
    "#print(b)"
   ]
  },
  {
   "cell_type": "code",
   "execution_count": 7,
   "metadata": {},
   "outputs": [],
   "source": [
    "#print(x)"
   ]
  },
  {
   "cell_type": "code",
   "execution_count": 8,
   "metadata": {},
   "outputs": [],
   "source": [
    "#print(y)"
   ]
  },
  {
   "cell_type": "code",
   "execution_count": 9,
   "metadata": {},
   "outputs": [],
   "source": [
    "# Build up original MIP objective (without terms for (energy terms of) constraints).\n",
    "Ham = 0\n",
    "for i in range(N):\n",
    "    for (t, (table_type_name, table_type)) in enumerate(cfg['rectangle_types'].items()):\n",
    "        Ham += b[(i,t)] * Vt[t]\n",
    "\n",
    "# Complete the objective from MIP objective to QUBO objective.\n",
    "for i in range(N):\n",
    "    lin12 = 1 - s12[i]  # eq (12) 1 - [slack variable] for inequality\n",
    "    lin13 = w[i]  # eq(13) lhs\n",
    "    lin14 = h[i]  # eq(14) lhs\n",
    "    for j in range(i+1, N):\n",
    "        assert i < j\n",
    "        Ham += P * Constraint(( x[i] - x[j] + W * (  p[i,j] +   q[i,j]) - s2x[(i,j)] - (w[i]+w[j]) / 2.0 ) ** 2,\n",
    "                              label='eq2_{:d}_{:d}'.format(i,j)) # eq (2)\n",
    "        Ham += P * Constraint(( x[j] - x[i] + W * (1-p[i,j] +   q[i,j]) - s3x[(i,j)] - (w[i]+w[j]) / 2.0 ) ** 2,\n",
    "                              label='eq3_{:d}_{:d}'.format(i,j))  # eq (3)\n",
    "        \n",
    "        Ham += P * Constraint(( y[i] - y[j] + H * (  p[i,j] + 1-q[i,j]) - s4y[(i,j)] - (h[i]+h[j]) / 2.0 ) ** 2,\n",
    "                              label='eq4_{:d}_{:d}'.format(i,j))  # eq (4)\n",
    "        Ham += P * Constraint(( y[j] - y[i] + H * (1-p[i,j] + 1-q[i,j]) - s5y[(i,j)] - (h[i]+h[j]) / 2.0 ) ** 2,\n",
    "                              label='eq5_{:d}_{:d}'.format(i,j))  # eq (5)\n",
    "        \n",
    "    Ham += P * Constraint((w[i]/2 + s10xL[i] - x[i]) ** 2,\n",
    "                          label='eq10L_{:d}'.format(i))  # eq (10 left), for all i\n",
    "    Ham += P * Constraint((x[i] +  s10xR[i] - W + w[i]/2) ** 2,\n",
    "                          label='eq10R_{:d}'.format(i))  # eq (10 right), for all i\n",
    "    \n",
    "    Ham += P * Constraint((h[i]/2 + s11yL[i] - y[i]) ** 2,\n",
    "                          label='eq11R_{:d}'.format(i))  # eq (11 left), for all i\n",
    "    Ham += P * Constraint((y[i] + s11yR[i] - H + h[i]/2) ** 2,\n",
    "                          label='eq11R_{:d}'.format(i))  # eq (11 right), for all i\n",
    "    \n",
    "    for (t, (_, _)) in enumerate(cfg['rectangle_types'].items()):\n",
    "        lin12 -= b[(i,t)]  # eq (12)\n",
    "        lin13 -= b[(i,t)] * Wt[t]  # eq (13) rhs\n",
    "        lin14 -= b[(i,t)] * Ht[t]  # eq (14) rhs\n",
    "\n",
    "    Ham += P * Constraint(lin12 ** 2, label='eq12_{:d}'.format(i))\n",
    "    # eq (12): so this lin term is pos & minimal when *at most* one b[(i,t)] is 1. \n",
    "    # if none of them is, then s(i,t) must be 1 (at optimality), for all i\n",
    "    \n",
    "    Ham += P * Constraint(lin13 ** 2, label='eq13_{:d}'.format(i))\n",
    "    # eq (13): so this lin term is pos & minimal when w[t] = sum_t b[(i,t)]*Wt[t], for all i\n",
    "                          \n",
    "    Ham += P * Constraint(lin14 ** 2, label='eq14_{:d}'.format(i))\n",
    "    # eq (14): so this lin term is pos & minimal when h[t] = sum_t b[(i,t)]*Ht[t], for all i\n",
    "\n",
    "for (t, (_, _)) in enumerate(cfg['rectangle_types'].items()):\n",
    "    lin15 = Nt[t] - s15[t]\n",
    "    for i in range(N):\n",
    "        lin15 -= b[(i,t)]\n",
    "    Ham += P *  Constraint(lin15 ** 2, label='eq15_{:d}'.format(t))\n",
    "    # eq (15) so this lin term is pos & minimal when Nt[t] = s15[t] + sum_i b[(i,t)], for all t\n",
    "    \n",
    "#print(Ham)"
   ]
  },
  {
   "cell_type": "code",
   "execution_count": 10,
   "metadata": {},
   "outputs": [],
   "source": [
    "model = Ham.compile()"
   ]
  },
  {
   "cell_type": "code",
   "execution_count": 11,
   "metadata": {},
   "outputs": [
    {
     "name": "stdout",
     "output_type": "stream",
     "text": [
      "[StructuredSolver(id='DW_2000Q_6'), BQMSolver(id='hybrid_binary_quadratic_model_version2'), DQMSolver(id='hybrid_discrete_quadratic_model_version1'), StructuredSolver(id='Advantage_system1.1')]\n"
     ]
    }
   ],
   "source": [
    "#qubo, offset = model.to_qubo()  # why would we need this?\n",
    "\n",
    "# solve problem:\n",
    "solve_on_remote_dwave_machine = False\n",
    "\n",
    "if not solve_on_remote_dwave_machine:  # then solve on this machine locally\n",
    "    import neal\n",
    "    sampler = neal.SimulatedAnnealingSampler()\n",
    "else:  # solve on a real dwave quantum computer\n",
    "    from dwave.cloud import Client\n",
    "    client = Client.from_config(token='DEV-????????????????????????????????????????')  # do not expose this on web\n",
    "    client.get_solvers()\n",
    "    print(client.get_solvers())"
   ]
  },
  {
   "cell_type": "code",
   "execution_count": 12,
   "metadata": {},
   "outputs": [
    {
     "name": "stdout",
     "output_type": "stream",
     "text": [
      "{'anneal_offsets': ['parameters'], 'anneal_schedule': ['parameters'], 'annealing_time': ['parameters'], 'answer_mode': ['parameters'], 'flux_biases': ['parameters'], 'flux_drift_compensation': ['parameters'], 'h_gain_schedule': ['parameters'], 'initial_state': ['parameters'], 'max_answers': ['parameters'], 'num_reads': ['parameters'], 'num_spin_reversal_transforms': ['parameters'], 'programming_thermalization': ['parameters'], 'readout_thermalization': ['parameters'], 'reduce_intersample_correlation': ['parameters'], 'reinitialize_state': ['parameters'], 'warnings': []}\n"
     ]
    }
   ],
   "source": [
    "if solve_on_remote_dwave_machine:\n",
    "    #from dwave.cloud.solver import BQMSolver\n",
    "    #sampler = BQMSolver(client=client, data={id:'hybrid_binary_quadratic_model_version2'})  # id='hybrid_binary_quadratic_model_version2'\n",
    "    \n",
    "    from dwave.system import DWaveCliqueSampler\n",
    "    sampler = DWaveCliqueSampler()    \n",
    "    sampler.parameters\n",
    "    print(sampler.parameters)"
   ]
  },
  {
   "cell_type": "code",
   "execution_count": 13,
   "metadata": {},
   "outputs": [],
   "source": [
    "bqm = model.to_bqm()\n",
    "sampleset = sampler.sample(bqm, num_reads=100)\n",
    "decoded_samples = model.decode_sampleset(sampleset)\n",
    "best_sample = min(decoded_samples, key=lambda f: f.energy)\n",
    "#best_sample.sample # doctest: +SKIP\n",
    "#print(best_sample.sample)"
   ]
  },
  {
   "cell_type": "code",
   "execution_count": 14,
   "metadata": {},
   "outputs": [
    {
     "name": "stdout",
     "output_type": "stream",
     "text": [
      "b:\n",
      "i\\t 0\n",
      "0   1\n",
      "1   1\n",
      "x:\n",
      " \\i    0   1\n",
      "       3   8\n",
      "y:\n",
      " \\i    0   1\n",
      "       4   4\n",
      "w:\n",
      " \\i    0   1\n",
      "       0   3\n",
      "h:\n",
      " \\i    0   1\n",
      "       0   1\n",
      "s10xL:\n",
      " \\i    0   1\n",
      "       5   9\n",
      "s10xR:\n",
      " \\i    0   1\n",
      "       5  15\n",
      "s11yL:\n",
      " \\i    0   1\n",
      "      26  17\n",
      "s11yR:\n",
      " \\i    0   1\n",
      "       6   2\n",
      "s12:\n",
      " \\i    0   1\n",
      "       0   0\n",
      "p:\n",
      "i\\j    0   1\n",
      "   0       1\n",
      "   1        \n",
      "q:\n",
      "i\\j    0   1\n",
      "   0       0\n",
      "   1        \n",
      "s2x:\n",
      "i\\j    0   1\n",
      "   0       2\n",
      "   1        \n",
      "s3x:\n",
      "i\\j    0   1\n",
      "   0       8\n",
      "   1        \n",
      "s4y:\n",
      "i\\j    0   1\n",
      "   0      20\n",
      "   1        \n",
      "s5y:\n",
      "i\\j    0   1\n",
      "   0      25\n",
      "   1        \n"
     ]
    }
   ],
   "source": [
    "vars = list(zip(['b'], [b]))\n",
    "for (var_name, var) in vars:\n",
    "    print(var_name + ':')\n",
    "\n",
    "    line = 'i\\\\t'\n",
    "    for (t, (_, _)) in enumerate(cfg['rectangle_types'].items()):\n",
    "        line += ' {:d}'.format(t)\n",
    "    print(line)\n",
    "    \n",
    "    for i in range(N):\n",
    "        line = '{:d}  '.format(i)\n",
    "        for (t, (_, _)) in enumerate(cfg['rectangle_types'].items()):\n",
    "            s = var_name + '_{:d}_{:d}'.format(i, t)\n",
    "            val = best_sample.sample[s]\n",
    "            line += ' {:d}'.format(val)  # is always 0 or 1\n",
    "        print(line)\n",
    "\n",
    "vars = list(zip(['x', 'y', 'w', 'h', 's10xL', 's10xR', 's11yL', 's11yR', 's12'],\\\n",
    "                [x, y, w, h, s10xL, s10xR, s11yL, s11yR, s12]))\n",
    "for (var_name, var) in vars:\n",
    "    print(var_name + ':')\n",
    "    \n",
    "    line = ' \\\\i '\n",
    "    for i in range(N):\n",
    "        line += ' {:3d}'.format(i)\n",
    "    print(line)\n",
    "\n",
    "    line = ' ' * (3+1)\n",
    "    for i, _ in var.items():\n",
    "        assert isinstance(i, int)\n",
    "        s = var_name + '_{:d}'.format(i)        \n",
    "        if var_name in ['s12']:\n",
    "            val = best_sample.sample[s]\n",
    "            assert val in [0, 1]\n",
    "        else:\n",
    "            val = best_sample.subh[s]\n",
    "            assert int(val) == val\n",
    "            assert val >= 0\n",
    "        line += ' {:3d}'.format(int(val))\n",
    "    print(line)\n",
    "            \n",
    "vars = list(zip(['p', 'q', 's2x', 's3x', 's4y', 's5y'], [p, q, s2x, s3x, s4y, s5y]))\n",
    "for (var_name, var) in vars:\n",
    "    print(var_name + ':')\n",
    "\n",
    "    line = 'i\\\\j '\n",
    "    for j in range(N):\n",
    "        line += ' {:3d}'.format(j)\n",
    "    print(line)\n",
    "    \n",
    "    for i in range(N):\n",
    "        line = ' {:3d}'.format(i)\n",
    "        for j in range(N):\n",
    "            if j<=i:\n",
    "                line += ' ' * (3+1)\n",
    "            else:\n",
    "                s = var_name + '_{:d}_{:d}'.format(i, j)\n",
    "                if var_name in ['p', 'q']:\n",
    "                    val = best_sample.sample[s]\n",
    "                    assert val in [0, 1]\n",
    "                    line += ' {:3d}'.format(val)  # is always 0 or 1\n",
    "                else:\n",
    "                    val = best_sample.subh[s]\n",
    "                    assert val == int(val)\n",
    "                    assert val >= 0\n",
    "                    line += ' {:3d}'.format(int(val))  # is always a positive integer\n",
    "        print(line)\n",
    "                \n",
    "\n",
    "#s12 = {}  # (i) bin"
   ]
  },
  {
   "cell_type": "code",
   "execution_count": 15,
   "metadata": {},
   "outputs": [
    {
     "data": {
      "text/plain": [
       "DecodedSample(decoded_subhs=[Constraint(s15_0,energy=1.000000),Constraint(eq15_0,energy=1.000000),Constraint(h_1,energy=1.000000),Constraint(eq14_1,energy=0.040000),Constraint(w_1,energy=3.000000),Constraint(eq13_1,energy=0.640000),Constraint(eq12_1,energy=0.000000),Constraint(y_1,energy=4.000000),Constraint(s11yR_1,energy=2.000000),Constraint(eq11R_1,energy=2.250000),Constraint(s11yL_1,energy=17.000000),Constraint(x_1,energy=8.000000),Constraint(s10xR_1,energy=15.000000),Constraint(eq10R_1,energy=506.250000),Constraint(s10xL_1,energy=9.000000),Constraint(eq10L_1,energy=6.250000),Constraint(h_0,energy=0.000000),Constraint(eq14_0,energy=1.440000),Constraint(w_0,energy=0.000000),Constraint(eq13_0,energy=4.840000),Constraint(eq12_0,energy=0.000000),Constraint(y_0,energy=4.000000),Constraint(s11yR_0,energy=6.000000),Constraint(eq11R_0,energy=25.000000),Constraint(s11yL_0,energy=26.000000),Constraint(x_0,energy=3.000000),Constraint(s10xR_0,energy=5.000000),Constraint(eq10R_0,energy=36.000000),Constraint(s10xL_0,energy=5.000000),Constraint(eq10L_0,energy=4.000000),Constraint(s5y_0_1,energy=25.000000),Constraint(eq5_0_1,energy=420.250000),Constraint(s4y_0_1,energy=20.000000),Constraint(eq4_0_1,energy=110.250000),Constraint(s3x_0_1,energy=8.000000),Constraint(eq3_0_1,energy=20.250000),Constraint(s2x_0_1,energy=2.000000),Constraint(eq2_0_1,energy=42.250000)],sample={h_1[2]:0,s10xL_0[2]:0,s11yR_1[1]:1,b_1_0:1,s12_0:0,s11yL_1[2]:0,x_1[0]:0,x_1[2]:0,h_0[3]:0,s11yL_1[5]:0,s5y_0_1[3]:1,s10xL_1[1]:0,s11yL_1[0]:1,s4y_0_1[5]:0,h_1[3]:0,s10xR_1[1]:1,s10xR_0[4]:0,w_1[4]:0,x_1[3]:1,s10xR_0[3]:0,s10xR_1[3]:1,s11yR_0[3]:0,s4y_0_1[0]:0,s11yR_1[3]:0,x_0[0]:1,s10xL_0[1]:0,y_1[0]:0,x_0[1]:1,b_0_0:1,p_0_1:1,s10xL_0[3]:0,s10xL_1[2]:1,s4y_0_1[1]:0,s10xL_1[3]:0,h_1[1]:0,s3x_0_1[3]:1,s10xR_0[1]:0,x_0[2]:0,s10xR_0[0]:1,s10xL_1[4]:1,s4y_0_1[2]:1,s10xR_1[0]:1,s10xL_0[4]:1,h_0[1]:0,s11yR_1[5]:0,s10xR_0[2]:1,s10xR_1[2]:0,x_0[3]:0,s10xR_1[4]:1,s5y_0_1[4]:1,s10xL_0[0]:1,s11yL_0[0]:0,s11yL_1[4]:1,s11yL_0[1]:1,x_0[4]:0,s11yL_0[2]:0,h_0[2]:0,s10xL_1[0]:1,s2x_0_1[2]:0,w_0[2]:0,y_0[1]:0,s11yL_0[4]:1,s5y_0_1[0]:1,s11yR_0[1]:1,s11yL_1[1]:0,s11yL_0[5]:0,h_0[0]:0,s2x_0_1[1]:1,s11yL_1[3]:0,s11yR_0[0]:0,w_0[0]:0,s11yR_0[2]:1,s11yR_0[4]:0,s11yR_0[5]:0,w_1[1]:1,q_0_1:0,s11yR_1[0]:0,s4y_0_1[3]:0,s11yR_1[2]:0,s12_1:0,s15_0[0]:1,s2x_0_1[0]:0,s2x_0_1[3]:0,s11yR_1[4]:0,s2x_0_1[4]:0,s3x_0_1[1]:0,s11yL_0[3]:1,s3x_0_1[2]:0,h_1[0]:1,s3x_0_1[4]:0,s3x_0_1[0]:0,s5y_0_1[1]:0,s4y_0_1[4]:1,s5y_0_1[2]:0,s5y_0_1[5]:0,w_0[1]:0,w_0[3]:0,w_0[4]:0,w_1[0]:1,w_1[2]:0,w_1[3]:0,x_1[1]:0,x_1[4]:0,y_0[0]:0,y_0[2]:1,y_0[3]:0,y_0[4]:0,y_0[5]:0,y_1[5]:0,y_1[1]:0,y_1[2]:1,y_1[3]:0,y_1[4]:0})"
      ]
     },
     "execution_count": 15,
     "metadata": {},
     "output_type": "execute_result"
    }
   ],
   "source": [
    "best_sample\n",
    "#decoded_sample = model.decode_sample(best_sample.sample) # vartype='BINARY')"
   ]
  },
  {
   "cell_type": "code",
   "execution_count": 16,
   "metadata": {},
   "outputs": [
    {
     "name": "stdout",
     "output_type": "stream",
     "text": [
      "15 constraints are violated.\n"
     ]
    },
    {
     "data": {
      "text/plain": [
       "{'eq10L_0': (False, 4.0),\n",
       " 'eq10L_1': (False, 6.25),\n",
       " 'eq10R_0': (False, 36.0),\n",
       " 'eq10R_1': (False, 506.25),\n",
       " 'eq11R_0': (False, 25.0),\n",
       " 'eq11R_1': (False, 2.25),\n",
       " 'eq13_0': (False, 4.840000000000001),\n",
       " 'eq13_1': (False, 0.6399999999999988),\n",
       " 'eq14_0': (False, 1.44),\n",
       " 'eq14_1': (False, 0.040000000000000036),\n",
       " 'eq15_0': (False, 1.0),\n",
       " 'eq2_0_1': (False, 42.25),\n",
       " 'eq3_0_1': (False, 20.25),\n",
       " 'eq4_0_1': (False, 110.25),\n",
       " 'eq5_0_1': (False, 420.25)}"
      ]
     },
     "execution_count": 16,
     "metadata": {},
     "output_type": "execute_result"
    }
   ],
   "source": [
    "broken_constr_dict = best_sample.constraints(only_broken=True)\n",
    "n_violated_constraints = len(broken_constr_dict.keys())\n",
    "print('{:d} constraints are violated.'.format(n_violated_constraints))\n",
    "broken_constr_dict"
   ]
  },
  {
   "cell_type": "code",
   "execution_count": null,
   "metadata": {},
   "outputs": [],
   "source": []
  }
 ],
 "metadata": {
  "kernelspec": {
   "display_name": "Python 3",
   "language": "python",
   "name": "python3"
  },
  "language_info": {
   "codemirror_mode": {
    "name": "ipython",
    "version": 3
   },
   "file_extension": ".py",
   "mimetype": "text/x-python",
   "name": "python",
   "nbconvert_exporter": "python",
   "pygments_lexer": "ipython3",
   "version": "3.8.6"
  },
  "toc": {
   "base_numbering": 1,
   "nav_menu": {},
   "number_sections": true,
   "sideBar": true,
   "skip_h1_title": false,
   "title_cell": "Table of Contents",
   "title_sidebar": "Contents",
   "toc_cell": false,
   "toc_position": {},
   "toc_section_display": true,
   "toc_window_display": false
  },
  "varInspector": {
   "cols": {
    "lenName": 16,
    "lenType": 16,
    "lenVar": 40
   },
   "kernels_config": {
    "python": {
     "delete_cmd_postfix": "",
     "delete_cmd_prefix": "del ",
     "library": "var_list.py",
     "varRefreshCmd": "print(var_dic_list())"
    },
    "r": {
     "delete_cmd_postfix": ") ",
     "delete_cmd_prefix": "rm(",
     "library": "var_list.r",
     "varRefreshCmd": "cat(var_dic_list()) "
    }
   },
   "types_to_exclude": [
    "module",
    "function",
    "builtin_function_or_method",
    "instance",
    "_Feature"
   ],
   "window_display": false
  }
 },
 "nbformat": 4,
 "nbformat_minor": 4
}
