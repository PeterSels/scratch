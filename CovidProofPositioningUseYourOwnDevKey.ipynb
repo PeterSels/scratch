{
 "cells": [
  {
   "cell_type": "markdown",
   "metadata": {},
   "source": [
    "# Covid Proof Table Positioning"
   ]
  },
  {
   "cell_type": "markdown",
   "metadata": {},
   "source": [
    "## Introduction\n",
    "\n",
    "The problem we solve here is to position tables (or more specifically, an outer rectangle box around a table with \n",
    "people on seats around the table) w.r.t. each other in a roon. These outer rectangles cannot overlap.\n",
    "If you want a more visual explanation of the problem, you can find a medium article at\n",
    "https://henk-celcius.medium.com/geometric-optimisation-for-industrial-challenges-be7cf35d225d\n",
    "\n",
    "We base ourselves on the paper of Goncalves et al. at:\n",
    "https://doi.org/10.1016/j.ejor.2020.04.028\n",
    "This is a MIP formulation, which we will convert to a QUBO formulation for execution on a dwave machine.\n",
    "\n",
    "A QUBO is a Quadratic Unconstrainted Binary Optimisation problem. \n",
    "All variables are binaries,\n",
    "(or sometime integers composed out of binaries, encoded in a particular way (one hot or as an unsigned int, etc.))\n",
    "They occur either as linear terms or quadratic terms (but note that x = x^2 for binary x).\n",
    "QUBOs are Unconstrained, so only the objective function has to be formulated.\n",
    "When transforming from a MIP with constraints, the constraints have to be converted \n",
    "into (weight balanced) terms in the objective function.\n",
    "\n",
    "For this conversion, we use the pyqubo library, https://github.com/recruit-communications/pyqubo\n",
    "with docs at https://pyqubo.readthedocs.io/en/latest/\n",
    "It was written by Kota Rotanahashi from recruit-communications. The resulting qubo datastructure \n",
    "can be sent to a dwave computer to be solved.\n",
    "\n",
    "Some principles of the basics of the conversion principles of the pyqubo library are explained at:\n",
    "http://www.optimization-online.org/DB_FILE/2018/11/6923.pdf\n",
    "\n",
    "The objective function of the MIP in our table positioning problem is: \n",
    "sum_{i=1}^N   sum_{t=1}^{T}  V^t I_{i}^{t}, \n",
    "where T is the set of table types,\n",
    "N^t is the number of table of type t,\n",
    "N is the total number of tables of any (generic) type (N = max_t{N^t})\n",
    "V^t is the value of each placed table of type t \n",
    "and I_{i}^{t} is the boolean variable that is 1 if table i is of type t and placed in the room, otherwise it's 0."
   ]
  },
  {
   "cell_type": "code",
   "execution_count": 1,
   "metadata": {
    "scrolled": true
   },
   "outputs": [],
   "source": [
    "import math \n",
    "import pprint\n",
    "import svgwrite\n",
    "import json\n",
    "from IPython.display import SVG, display\n",
    "\n",
    "filename_prefix = 'Positioning'"
   ]
  },
  {
   "cell_type": "markdown",
   "metadata": {},
   "source": [
    "## Choose Problem (Size) & Solving Methods"
   ]
  },
  {
   "cell_type": "markdown",
   "metadata": {},
   "source": [
    "### Choose Problem (Size) "
   ]
  },
  {
   "cell_type": "code",
   "execution_count": 2,
   "metadata": {
    "scrolled": true
   },
   "outputs": [
    {
     "name": "stdout",
     "output_type": "stream",
     "text": [
      "{\n",
      "  \"room\": {\n",
      "    \"dy\": 2,\n",
      "    \"dx\": 2,\n",
      "    \"color\": \"green\"\n",
      "  },\n",
      "  \"rectangle_types\": {\n",
      "    \"wide\": {\n",
      "      \"dy\": 0.4,\n",
      "      \"dx\": 0.8,\n",
      "      \"value\": 1.0,\n",
      "      \"max_number\": 1,\n",
      "      \"color\": \"blue\"\n",
      "    },\n",
      "    \"sqish\": {\n",
      "      \"dy\": 1.2,\n",
      "      \"dx\": 0.6,\n",
      "      \"value\": 1.0,\n",
      "      \"max_number\": 1,\n",
      "      \"color\": \"orange\"\n",
      "    }\n",
      "  }\n",
      "}\n"
     ]
    }
   ],
   "source": [
    "# (1) Choose here which covid safe positioning problem you want to solve.\n",
    "problem_large = {\n",
    "    'room': {'dy':4, 'dx': 10, 'color':'green'},\n",
    "    'rectangle_types': {\n",
    "        'wide': {'dy': 1.2, 'dx':2.0, 'value':1.0, \n",
    "                 'max_number':6, 'color':'blue'}, # 1st table type\n",
    "        'sqish': {'dy': 1.4, 'dx':1.4, 'value':4.0, \n",
    "                  'max_number':6, 'color':'orange'}, # 2nd table type\n",
    "        'high': {'dy': 3, 'dx':1, 'value':2.0, \n",
    "                 'max_number':6, 'color':'brown'}, # 2nd table type\n",
    "   },\n",
    "}\n",
    "\n",
    "problem_medium = {\n",
    "    'room': {'dy':4, 'dx': 10, 'color':'green'},\n",
    "    'rectangle_types': {\n",
    "        'wide': {'dy': 1.2, 'dx':2.0, 'value':1.0, \n",
    "                 'max_number':1, 'color':'blue'}, # 1st table type\n",
    "        'sqish': {'dy': 1.4, 'dx':1.4, 'value':1.0, \n",
    "             'max_number':1, 'color':'orange'}, # 2nd table type\n",
    "   },\n",
    "}\n",
    "\n",
    "# We reduce the problem to stay below 119 qubits.\n",
    "# For the 'ann_hw' hardware dwave machine, I get:\n",
    "# ValueError: Cannot embed given BQM (size 136), sampler can only handle problems of size 119\n",
    "problem_small = {\n",
    "    'room': {'dy':2, 'dx': 2, 'color':'green'},\n",
    "    'rectangle_types': {\n",
    "        'wide': {'dy': 0.4, 'dx':0.8, 'value':1.0, \n",
    "                 'max_number':1, 'color':'blue'}, # 1st table type\n",
    "        'sqish': {'dy': 1.2, 'dx':0.6, 'value':1.0, \n",
    "                  'max_number':1, 'color':'orange'}, # 2nd table type\n",
    "   },\n",
    "}\n",
    "\n",
    "problem = problem_small\n",
    "    \n",
    "cfg_json_str = json.dumps(problem, indent=2)\n",
    "print(cfg_json_str)"
   ]
  },
  {
   "cell_type": "markdown",
   "metadata": {},
   "source": [
    "###  Solving Method Set"
   ]
  },
  {
   "cell_type": "code",
   "execution_count": 3,
   "metadata": {
    "scrolled": true
   },
   "outputs": [],
   "source": [
    "# This notebook can use a set of methods to solve the same problem and compare solutions.\n",
    "# We altely also introduced ['cliq', 'dws', 'hyb'] as sub-methods of ann_hw, so one cannot only compare\n",
    "# different software approaches, but also differentt quantum/hybrid hardware machines running the \n",
    "# same or a similar annealing technique.\n",
    "# (1) This gives 7 possible methods globally.\n",
    "mip_methods = ['mip_plain', 'mip_hier_obj', 'mip_qubo']\n",
    "mip_methods.remove('mip_hier_obj')  # method is inpplicable here since:\n",
    "# we can only define linear objective terms here \n",
    "# and we need quadratic ones for the penalities on hard mip constraints). \n",
    "# So it will not give valid solutions and we disable it here.\n",
    "ann_sw_methods = ['ann_sw']\n",
    "ann_hw_methods = ['ann_hw_cliq', 'ann_hw_dws', 'ann_hw_hyb']\n",
    "ann_methods = ann_sw_methods + ann_hw_methods\n",
    "all_implemented_methods = mip_methods + ann_methods\n",
    "# If you do not have a gurobi license, just leave out 'mip' form the run_methods.\n",
    "# If you have not downloaded the free leap software from dwave, just leave out 'ann_sw' form the run_methods.\n",
    "# If you have not applied and been granted access to the quantum computers at dwave, \n",
    "# just leave out 'ann_hw' form the run_methods.\n",
    "\n",
    "# (2) Choose here which subset of all_methods you want to run.\n",
    "#run_methods = ['mip_plain', 'mip_qubo', 'mip_qubo', 'ann_sw'] \n",
    "run_methods = all_implemented_methods\n",
    "all_big_enough_methods = all_implemented_methods.copy()\n",
    "all_big_enough_methods.remove('ann_hw_cliq')  # remove is an in place method\n",
    "# The dwave quatum full clique computer ann_hw_cliq can only can embed up to 119 qubits.\n",
    "# That is enough for problem_small, which requires 116 qubits,\n",
    "# but not for problem_medium and problem_large, which require more qubits.\n",
    "\n",
    "all_mappable_methods = all_big_enough_methods.copy()\n",
    "all_mappable_methods.remove('ann_hw_dws')\n",
    "# raise ValueError(\"no embedding found\")\n",
    "\n",
    "# We are going to set up problems, not only for a quantum computer,\n",
    "# but, just to check if our model is correct, via a trustable MIP solver: Gurobi.\n",
    "# We will maximise sharing of code of this Gurobi problem with the quantum QUBO formulation,\n",
    "# so that we have a method to avoid mistakes in the more tricky and less well known QUBO formulation.\n",
    "# 'mip' means we formulate a MIP (mixed integer programming) model. We do this using the Gurobi API.\n",
    "# 'ann_sw' means ANNealing_via_simulator_SoftWare\n",
    "# 'ann_hw' methods: 3 different annealing_via_quantum_HardWare\n",
    "\n",
    "assert set(run_methods).issubset(all_implemented_methods)\n",
    "\n",
    "# (3) Nothing else to configure now. Just run the notebook to the end."
   ]
  },
  {
   "cell_type": "markdown",
   "metadata": {},
   "source": [
    "### Choosing Solving Method Set, Depending on the Problem"
   ]
  },
  {
   "cell_type": "code",
   "execution_count": 4,
   "metadata": {
    "scrolled": true
   },
   "outputs": [],
   "source": [
    "# You could reduce the methods set here, but they have been chosen to contain all \n",
    "# methods that work in a practical amount of time.\n",
    "# For the notebook to work on your computer, you should for example \n",
    "# remove the mip methods, if you don't have a gurobi license installed,\n",
    "# or the dwave machine methods if you don't have a dwave access key to their quantum computers.\n",
    "all_cfg = {'small': {'problem': problem_small, \n",
    "                     'methods': all_implemented_methods\n",
    "                    },\n",
    "           'medium': {'problem': problem_medium, \n",
    "                      'methods': all_big_enough_methods\n",
    "                      },\n",
    "           'large': {'problem': problem_large, \n",
    "                     'methods': all_mappable_methods\n",
    "                      },\n",
    "          }\n",
    "\n",
    "# User should change this problem_name from 'small' to 'medium' to 'large':\n",
    "problem_name = 'small'  # We can run only one problem size at the time. \n",
    "# You can set the run value here to each of the keys in all_cfg.keys().\n",
    "# After having done that, you will have the fiull collection of filenames\n",
    "# Positioning_{problem}_{method}.svg\n",
    "# Then, you can run the last cell and this shows all pictures together to get an understanding of the \n",
    "# capability of the methods for the particular problems / problem sizes.\n",
    "assert problem_name in all_cfg.keys()\n",
    "\n",
    "# The below line should be left untouched.\n",
    "cfg = all_cfg[problem_name]['problem']\n",
    "run_methods = all_cfg[problem_name]['methods']"
   ]
  },
  {
   "cell_type": "markdown",
   "metadata": {},
   "source": [
    "## Initialize Some Constant Parameters"
   ]
  },
  {
   "cell_type": "code",
   "execution_count": 5,
   "metadata": {
    "scrolled": true
   },
   "outputs": [
    {
     "name": "stdout",
     "output_type": "stream",
     "text": [
      "n_x_steps=20 is the number of steps for the room-range horizontal x coordinate variable of each table.\n",
      "n_y_steps=20 is the number of steps for the room-range vertical y coordinate variable of each table.\n",
      "Wt=\n",
      "{0: 8, 1: 6}\n",
      "Ht=\n",
      "{0: 4, 1: 12}\n",
      "N=2 is the maximum number of potentially placeble tables for all table types summed together.\n",
      "Wt_max=8.000000 is the maximum width amongst all table types.\n",
      "Ht_max=12.000000 is the maximum width amongst all table types.\n",
      "max_mip_obj=2.000000 is (an upperbound for) the maximum value the ob]ective could ever reach.\n",
      "Only used in mip_hier_obj:\n",
      "  pri_main=5.000000 is the priority we assign to the main mip objective.\n",
      "  pri_constr=10.000000 is the priority we assign to all MIP constraints (so all objective terms but the main mip one).\n",
      "weight_main=1.000000 is the weight factor we weight the main mip objective with.\n",
      "pen_constr=3.000000 is the weight factor we weight all MIP constraints (so other QUBO obj[m] terms) with.\n",
      "n_w_steps=8 is the number of steps for the table-range horizontal w size variable of each table.\n",
      "n_h_steps=12 is the number of steps for the table_range vertical h size variable of each table.\n"
     ]
    }
   ],
   "source": [
    "resolution_in_m = 0.1  \n",
    "# The finer the resolution, the more bits needed, so this will be one control parameter\n",
    "# that allows to scale the needed bits up or down when possible resp. needed.\n",
    "n_x_steps = math.ceil(cfg['room']['dx'] / resolution_in_m)\n",
    "n_y_steps = math.ceil(cfg['room']['dy'] / resolution_in_m)\n",
    "print('n_x_steps={:d} is the number of steps for the room-range horizontal x coordinate variable of each table.'.format(n_x_steps))\n",
    "print('n_y_steps={:d} is the number of steps for the room-range vertical y coordinate variable of each table.'.format(n_y_steps))\n",
    "#n_bits_y = math.ceil(math.log(n_y_steps, 2))\n",
    "#n_bits_x = math.ceil(math.log(n_x_steps, 2))\n",
    "#print(n_y_steps, n_bits_y, n_x_steps, n_bits_x)\n",
    "\n",
    "# room parameters:\n",
    "W = cfg['room']['dx'] / resolution_in_m\n",
    "H = cfg['room']['dy'] / resolution_in_m\n",
    "\n",
    "# table type parameters:\n",
    "Wt = {}\n",
    "Ht = {}\n",
    "Vt = {}\n",
    "Nt = {}\n",
    "N = 0\n",
    "Wt_max = 0\n",
    "Ht_max = 0\n",
    "max_mip_obj = 0\n",
    "for (t, (_, table_type)) in enumerate(cfg['rectangle_types'].items()):\n",
    "    Wt[t] = int(table_type['dx'] / resolution_in_m + 0.5)\n",
    "    Ht[t] = int(table_type['dy'] / resolution_in_m + 0.5)\n",
    "    Vt[t] = table_type['value']\n",
    "    Nt[t] = table_type['max_number']\n",
    "    assert int(Nt[t]) == Nt[t]\n",
    "    N += Nt[t]\n",
    "    Wt_max = max(Wt_max, Wt[t])  # TODO: Not doing anything with 90 degree rotation yet.\n",
    "    Ht_max = max(Ht_max, Ht[t])  # TODO: Not doing anything with 90 degree rotation yet.\n",
    "    max_mip_obj += Nt[t] * Vt[t]  # supposing all tables can fit.\n",
    "print('Wt=')\n",
    "print(Wt)\n",
    "print('Ht=')\n",
    "print(Ht)\n",
    "print('N={:d} is the maximum number of potentially placeble tables for all table types summed together.'.format(N))\n",
    "print('Wt_max={:f} is the maximum width amongst all table types.'.format(Wt_max))\n",
    "print('Ht_max={:f} is the maximum width amongst all table types.'.format(Ht_max))\n",
    "print('max_mip_obj={:f} is (an upperbound for) the maximum value the ob]ective could ever reach.'.format(max_mip_obj))\n",
    "pri = 1  # default\n",
    "print('Only used in mip_hier_obj:')\n",
    "pri_main = 5 * pri  # lower value, since these (original mip ony) obj term is like a 'soft' constraints.\n",
    "pri_constr = 10 * pri  # higher value is more important (higher priority), \n",
    "# since these terms represent hard constraints\n",
    "print('  pri_main={:f} is the priority we assign to the main mip objective.'.\n",
    "      format(pri_main))\n",
    "print('  pri_constr={:f} is the priority we assign to all MIP constraints '.format(pri_constr), end='')\n",
    "print('(so all objective terms but the main mip one).')\n",
    "      \n",
    "weight_main = 1  # we don't call this a penalty as for the things deviating from zero.\n",
    "pen_constr = max_mip_obj * 1.5   # we set the penaly P to this value so that hard MIP constraints,\n",
    "# present in the QUBO model as terms in the QUBO ob]ective to be minimised, are more highly weighted that the\n",
    "# value the ob]ective can reach.\n",
    "print('weight_main={:f} is the weight factor we weight the main mip objective with.'.format(weight_main))\n",
    "print('pen_constr={:f} is the weight factor we weight all MIP constraints (so other QUBO obj[m] terms) with.'.\n",
    "      format(pen_constr))  \n",
    "n_w_steps = math.ceil(Wt_max)\n",
    "n_h_steps = math.ceil(Ht_max)\n",
    "print('n_w_steps={:d} is the number of steps for the table-range horizontal w size variable of each table.'.format(n_w_steps))\n",
    "print('n_h_steps={:d} is the number of steps for the table_range vertical h size variable of each table.'.format(n_h_steps))"
   ]
  },
  {
   "cell_type": "markdown",
   "metadata": {},
   "source": [
    "## Construct Model Variables"
   ]
  },
  {
   "cell_type": "markdown",
   "metadata": {},
   "source": [
    "### Define Variable Initializing Helper Functions"
   ]
  },
  {
   "cell_type": "code",
   "execution_count": 6,
   "metadata": {
    "scrolled": true
   },
   "outputs": [],
   "source": [
    "# Create variables dictionaries, model dictionary and objective dictionary.\n",
    "\n",
    "# Create all the variable dictionaries\n",
    "# We call the Goncalves paper 'I' boolean variables 'b' here instead.\n",
    "b = {}  # (i,t) bin \n",
    "# The rest of the naming is consistent with the Goncalves paper.\n",
    "x = {}  # (i) int\n",
    "y = {}  # (i) int\n",
    "p = {}  # (i,j) bin\n",
    "q = {}  # (i,j) bin\n",
    "w = {}  # (i) int\n",
    "h = {}  # (i) int\n",
    "s2x = {}  # (i,j) int\n",
    "s3x = {}  # (i,j) int\n",
    "s4y = {}  # (i,j) int\n",
    "s5y = {}  # (i,j) int\n",
    "s10xL = {} # (i) int\n",
    "s10xR = {} # (i) int\n",
    "s11yL = {} # (i) int\n",
    "s11yR = {} # (i) int\n",
    "s12 = {}  # (i) bin\n",
    "s15 = {} # (t) int\n",
    "model = {} # can be mip model \n",
    "# or an annealing model (where sim sw or real harware have same model type as interface)\n",
    "obj = {}\n",
    "\n",
    "def complete_name_with_indices(name_prefix, indices):\n",
    "    anonymous_indices = False\n",
    "    name = name_prefix\n",
    "    n_indices = 0\n",
    "    for index_name, index_value in indices.items():\n",
    "        if anonymous_indices:\n",
    "            name += '_{:d}'.format(index_value) \n",
    "        else:\n",
    "            name += '_{:s}{:d}'.format(index_name, index_value)\n",
    "        n_indices += 1\n",
    "    return name, n_indices\n",
    "\n",
    "def add_var(dictionary, method, var_name, lb, ub, mip_model, indices):  \n",
    "    # this can be an integer (in annealing methods) or a float (in mip method)\n",
    "    full_var_name, n_indices = complete_name_with_indices(var_name, indices)\n",
    "    binary = lb==0 and ub==1\n",
    "    annealing = method in ann_methods\n",
    "    if annealing:\n",
    "        if binary:  # add a binary variable\n",
    "            v = Binary(full_var_name)\n",
    "        else:\n",
    "            v = LogEncInteger(full_var_name, (lb, ub))\n",
    "    else:  # integers or floats, depending on the method.\n",
    "        assert mip_model is not None\n",
    "        obj_coefficient = 0.0  # for equivalence of mip method to the annealing methods \n",
    "        # We exclude non zero obj_coefficients.\n",
    "        if binary:  # add a binary variable\n",
    "            v = mip_model.addVar(lb, ub, obj_coefficient, GRB.BINARY, full_var_name)\n",
    "        else:\n",
    "            prefer_continuous = True  # integermimicks the quantum discrete nature better, \n",
    "            # continuous is likely quicker\n",
    "            var_type = GRB.CONTINUOUS if prefer_continuous else GRB.INTEGER\n",
    "            v = mip_model.addVar(lb, ub, obj_coefficient, GRB.CONTINUOUS, full_var_name)\n",
    "\n",
    "    index_value_list = []\n",
    "    for index_name, index_value in indices.items():\n",
    "        index_value_list.append(index_value)\n",
    "        if n_indices == 1:\n",
    "            dictionary[m][index_value_list[0]] = v\n",
    "        else:\n",
    "            assert n_indices == 2\n",
    "            if len(index_value_list) == 2:\n",
    "                dictionary[m][(index_value_list[0],index_value_list[1])] = v\n",
    "    return v"
   ]
  },
  {
   "cell_type": "markdown",
   "metadata": {},
   "source": [
    "### Actually Construct Model Variables"
   ]
  },
  {
   "cell_type": "code",
   "execution_count": 7,
   "metadata": {
    "scrolled": true
   },
   "outputs": [
    {
     "name": "stdout",
     "output_type": "stream",
     "text": [
      "\n",
      "-------------------- small_mip_plain --------------------\n",
      "Using license file /Library/gurobi910/gurobi.lic\n",
      "\n",
      "-------------------- small_mip_qubo --------------------\n",
      "\n",
      "-------------------- small_ann_sw --------------------\n",
      "\n",
      "-------------------- small_ann_hw_cliq --------------------\n",
      "\n",
      "-------------------- small_ann_hw_dws --------------------\n",
      "\n",
      "-------------------- small_ann_hw_hyb --------------------\n"
     ]
    }
   ],
   "source": [
    "for m in run_methods: # you can read m as method or as model in the sequel\n",
    "    print('\\n-------------------- ' + problem_name + '_' + m + ' --------------------')\n",
    "    b[m] = {}  # (i,t) bin \n",
    "    x[m] = {}  # (i) int\n",
    "    y[m] = {}  # (i) int\n",
    "    p[m] = {}  # (i,j) bin\n",
    "    q[m] = {}  # (i,j) bin\n",
    "    w[m] = {}  # (i) int\n",
    "    h[m] = {}  # (i) int\n",
    "    s2x[m] = {}  # (i,j) int\n",
    "    s3x[m] = {}  # (i,j) int\n",
    "    s4y[m] = {}  # (i,j) int\n",
    "    s5y[m] = {}  # (i,j) int\n",
    "    s10xL[m] = {} # (i) int\n",
    "    s10xR[m] = {} # (i) int\n",
    "    s11yL[m] = {} # (i) int\n",
    "    s11yR[m] = {} # (i) int\n",
    "    s12[m] = {}  # (i) bin\n",
    "    s15[m] = {} # (t) int\n",
    "    \n",
    "    model[m] = None  # different type of model for mip and for annealing\n",
    "    # obj[m] is initialized in the next cell below.\n",
    "\n",
    "    if m in mip_methods:\n",
    "        import gurobipy as gp\n",
    "        a = False  # you can read isq as must do annealing stuff (i.o mip)\n",
    "        from gurobipy import GRB\n",
    "        model[m] = gp.Model()\n",
    "    elif m in ann_methods:\n",
    "        from pyqubo import LogEncInteger, Binary, Constraint\n",
    "        import dimod\n",
    "        a = True # you can read 1 as must do annealing stuff (i.o mip)\n",
    "        model[m] = None  # nothing needed here yet. We will fill it with an annealing model later.\n",
    "    else:\n",
    "        assert False\n",
    "\n",
    "    for i in range(N):\n",
    "        assert isinstance(i, int)\n",
    "        \n",
    "        # Note that in this loop. model[m], the rhs is only not None for where m is 'mip', so:\n",
    "        if m in ['mip_plain', 'mip_hier_obj', 'mip_qubo']:\n",
    "            assert model[m] is not None\n",
    "        else:  # annealing / QUBO model\n",
    "            assert model[m] is None\n",
    "        \n",
    "        for (t, (table_type_name, table_type)) in enumerate(cfg['rectangle_types'].items()):\n",
    "            #b[m][(i,t)] = Binary('b_{:d}_{:d}'.format(i,t))\n",
    "            add_var(b, m, 'b', 0.0, 1.0, model[m], {'i': i, 't':t})\n",
    "            \n",
    "        #x[m][i] = LogEncInteger('x_{:d}'.format(i), (0.0, n_x_steps-1))\n",
    "        add_var(x, m, 'x', 0, n_x_steps, model[m], {'i': i})  # dropped -1\n",
    "        \n",
    "        #y[m][i] = LogEncInteger('y_{:d}'.format(i), (0.0, n_y_steps-1))\n",
    "        add_var(y, m, 'y', 0, n_y_steps, model[m], {'i': i})  # dropped -1\n",
    "        \n",
    "        #w[m][i] = LogEncInteger('w_{:d}'.format(i), (0.0, n_w_steps-1))\n",
    "        add_var(w, m, 'w', 0, n_w_steps, model[m], {'i': i})  # dropped -1\n",
    "\n",
    "        #h[m][i] = LogEncInteger('h_{:d}'.format(i), (0.0, n_h_steps-1))\n",
    "        add_var(h, m, 'h', 0, n_h_steps, model[m], {'i': i})  # dropped -1\n",
    "\n",
    "        #s10xL[m][i] = LogEncInteger('s10xL_{:d}'.format(i), (0.0, n_x_steps-1))\n",
    "        add_var(s10xL, m, 's10xL', 0, n_x_steps, model[m], {'i': i})  # dropped -1\n",
    "\n",
    "        #s10xR[m][i] = LogEncInteger('s10xR_{:d}'.format(i), (0.0, n_x_steps-1))\n",
    "        add_var(s10xR, m, 's10xR', 0, n_x_steps, model[m], {'i': i})  # dropped -1\n",
    "\n",
    "        #s11yL[m][i] = LogEncInteger('s11yL_{:d}'.format(i), (0.0, n_y_steps-1))\n",
    "        add_var(s11yL, m, 's11yL', 0, n_y_steps, model[m], {'i': i})  # dropped -1\n",
    "\n",
    "        #s11yR[m][i] = LogEncInteger('s11yR_{:d}'.format(i), (0.0, n_y_steps-1))\n",
    "        add_var(s11yR, m, 's11yR', 0, n_y_steps, model[m], {'i': i})  # dropped -1\n",
    "\n",
    "        #s12[m][i] = Binary('s12_{:d}'.format(i))\n",
    "        add_var(s12, m, 's12', 0, 1, model[m],  {'i': i})\n",
    "\n",
    "        for j in range(i+1, N):\n",
    "            assert i < j\n",
    "            #p[m][(i,j)] = Binary('p_{:d}_{:d}'.format(i,j))\n",
    "            add_var(p, m, 'p', 0, 1, model[m], {'i': i, 'j': j})\n",
    "\n",
    "            #q[m][(i,j)] = Binary('q_{:d}_{:d}'.format(i,j))\n",
    "            add_var(q, m, 'q', 0, 1, model[m],  {'i': i, 'j': j})\n",
    "\n",
    "            # TODO: with the 2* range extention for the slack vars below, we get feasibility when \n",
    "            # more than one table is allowed, otherwise not. Strange. To be fixed...\n",
    "            \n",
    "            #s2x[m][(i,j)] = LogEncInteger('s2x_{:d}_{:d}'.format(i,j), (0.0, n_x_steps-1))\n",
    "            # 0.18 goes ok, 0.17 goes wrong for ioOne. At least for slack debug case in cfg.\n",
    "            ioOne = 2 # TODO: I would think 1.0 should be enough. Investigate why we need more...\n",
    "            add_var(s2x, m, 's2x', 0, ioOne*n_x_steps, model[m], {'i': i, 'j': j})  # dropped -1, replaced with 2*\n",
    "\n",
    "            #s3x[m][(i,j)] = LogEncInteger('s3x_{:d}_{:d}'.format(i,j), (0.0, n_x_steps-1))\n",
    "            add_var(s3x, m, 's3x', 0, ioOne*n_x_steps, model[m], {'i': i, 'j': j})  # dropped -1, replaced with 2*\n",
    "\n",
    "            #s4y[m][(i,j)] = LogEncInteger('s4y_{:d}_{:d}'.format(i,j), (0.0, n_y_steps-1))\n",
    "            add_var(s4y, m, 's4y', 0, ioOne*n_y_steps, model[m], {'i': i, 'j': j})  # dropped -1, replaced with 2*\n",
    "\n",
    "            #s5y[m][(i,j)] = LogEncInteger('s5y_{:d}_{:d}'.format(i,j), (0.0, n_y_steps-1))\n",
    "            add_var(s5y, m, 's5y', 0, ioOne*n_y_steps, model[m], {'i': i, 'j': j})  # dropped -1, replaced with 2*\n",
    "\n",
    "    for (t, (_, _)) in enumerate(cfg['rectangle_types'].items()):\n",
    "        #s15[m][t] = LogEncInteger('s15_{:d}'.format(t), (0.0, nt[t]-1))\n",
    "        add_var(s15, m, 's15', 0, Nt[t], model[m], {'t': t})  # dropped -1"
   ]
  },
  {
   "cell_type": "code",
   "execution_count": 8,
   "metadata": {
    "scrolled": true
   },
   "outputs": [],
   "source": [
    "# One can debug by outcommenting a statement below.\n",
    "\n",
    "#print(b)\n",
    "#print(x)\n",
    "#print(y)"
   ]
  },
  {
   "cell_type": "markdown",
   "metadata": {},
   "source": [
    "## Construct Model Constraints"
   ]
  },
  {
   "cell_type": "markdown",
   "metadata": {},
   "source": [
    "### Define Constraint Constructing Helper Functions"
   ]
  },
  {
   "cell_type": "code",
   "execution_count": 9,
   "metadata": {
    "scrolled": true
   },
   "outputs": [],
   "source": [
    "# Create constraints, which are real constraints for the mip model,\n",
    "# but just penalised terms for the annealing models.\n",
    "def add_constr(obj_m, obj_index_list, priority, penalty, expr_to_be_zero_or_minimized, method, constr_name,\n",
    "               mip_model, indices):\n",
    "    verbose = 1  # shh-ish\n",
    "    \n",
    "    weighted_qt = 0  # This is the start for all branches in here.\n",
    "    full_constr_name, n_indices = complete_name_with_indices(constr_name, indices)        \n",
    "    annealing = method in ann_methods\n",
    "    if annealing:  # QUBO models have no constraints. \n",
    "        # The best we can do is penalise the non-equality part in the obj[m]\n",
    "        weighted_qt = penalty * Constraint(expr_to_be_zero_or_minimized ** 2, label=full_constr_name) \n",
    "        #obj_m += weighted_qt\n",
    "        # a QUBO 'constraint'\n",
    "    else:  # mip\n",
    "        assert m in mip_methods\n",
    "        # TODO: avoid these exceptions ['eq12', 'eq13', 'eq14', 'eq15'] in line below\n",
    "        exceptions = []\n",
    "        #exceptions.extend(['eq2', 'eq3', 'eq4', 'eq5'])\n",
    "        #exceptions.extend(['eq12', 'eq13', 'eq14', 'eq15'])\n",
    "        if (exceptions != []) and (m not in ['mip_hier_obj']):  # Then you have something quadratic + constraints.\n",
    "            if model[m].Params.NonConvex != 2:  # only do this once since Gurobi prints a line whenever it's changed.\n",
    "                model[m].Params.NonConvex = 2\n",
    "        if m == 'mip_plain' or ((m in ['mip_hier_obj', 'mip_qubo']) \n",
    "                                and (constr_name in exceptions)):  # normal mip mode\n",
    "            mip_model.addConstr(expr_to_be_zero_or_minimized == 0, full_constr_name) # add a real mip constraint\n",
    "            assert weighted_qt == 0\n",
    "        else:\n",
    "            assert m in ['mip_hier_obj', 'mip_qubo']\n",
    "            if verbose >=2:\n",
    "                print('Adding extra terms to mip obj_m because of mip_mimicking_qubo. constr_name={:s}, Penalty={:.4f}.'.\\\n",
    "                      format(constr_name, penalty))\n",
    "                print('indices =')\n",
    "                print(indices)\n",
    "            if m in ['mip_qubo']:\n",
    "                quadratic_term = expr_to_be_zero_or_minimized * expr_to_be_zero_or_minimized\n",
    "                weighted_qt = penalty * quadratic_term\n",
    "                if verbose >=2:\n",
    "                    print('adding weighted_qt=')\n",
    "            else:\n",
    "                assert m in ['mip_hier_obj']\n",
    "                # theory: https://www.gurobi.com/documentation/9.1/refman/working_with_multiple_obje.html\n",
    "                # practice: https://www.gurobi.com/documentation/9.1/refman/py_model_setobjectiven.html\n",
    "                \n",
    "                # GurobiError: Objective must be linear for multi-objective model\n",
    "                # This means that these terms can be negative, and this mip_hier_obj will in geeneral not give\n",
    "                # valid solutions. (You can try it though.)\n",
    "                if verbose >=2:\n",
    "                    print('obj_index = {:d}'.format(obj_index_list[0]))\n",
    "                model[m].setObjectiveN(expr_to_be_zero_or_minimized, index=obj_index_list[0], \n",
    "                                       priority=priority, weight=penalty)\n",
    "                obj_index_list[0] += 1  # by pretending it is a list and incrementing the first list element.\n",
    "                if verbose >=2:\n",
    "                    print('adapted obj_index = {:d}'.format(obj_index_list[0]))\n",
    "                weighted_qt = 0 # we don't want to add objective N to the original objective.\n",
    "            #print(weighted_qt)\n",
    "            #obj_m += weighted_qt  # just as the qubo does\n",
    "    # dirty trick to increment an integer passed to a function in the function itself:\n",
    "    return weighted_qt  # we could do addition of this to obj_m in place, but somehow this fails.\n",
    "    # so we do it in the caller instead.         "
   ]
  },
  {
   "cell_type": "markdown",
   "metadata": {},
   "source": [
    "### Actually Construct Model Constraints"
   ]
  },
  {
   "cell_type": "code",
   "execution_count": 10,
   "metadata": {
    "scrolled": true
   },
   "outputs": [
    {
     "name": "stdout",
     "output_type": "stream",
     "text": [
      "\n",
      "-------------------- small_mip_plain --------------------\n",
      "\n",
      "-------------------- small_mip_qubo --------------------\n",
      "\n",
      "-------------------- small_ann_sw --------------------\n",
      "\n",
      "-------------------- small_ann_hw_cliq --------------------\n",
      "\n",
      "-------------------- small_ann_hw_dws --------------------\n",
      "\n",
      "-------------------- small_ann_hw_hyb --------------------\n"
     ]
    }
   ],
   "source": [
    "obj_mip_obj = {}\n",
    "\n",
    "# Build up original MIP objective (without terms for (energy terms of) constraints).\n",
    "for m in run_methods: # you can read m as method or as model in the sequel\n",
    "    print('\\n-------------------- ' + problem_name + '_' + m + ' --------------------')\n",
    "    assert isinstance(i, int)\n",
    "\n",
    "    # Note that in this loop. mip_model=model[m], the rhs is only not None for where m is 'mip', so:\n",
    "    if m in mip_methods:\n",
    "        assert model[m] is not None\n",
    "    else: # annealing / QUBO model\n",
    "        assert model[m] is None\n",
    "\n",
    "    obj_mip_obj[m] = 0  # That's where it starts for both model types: mip or annealing.\n",
    "    for i in range(N):\n",
    "        for (t, (table_type_name, table_type)) in enumerate(cfg['rectangle_types'].items()):\n",
    "            obj_mip_obj[m] -= b[m][(i,t)] * Vt[t]  \n",
    "            # Note the - i.o. + sign because we minimise - the table values, \n",
    "            # for compatibility with energy minimisation in the annealing methods.\n",
    "            # This holds for both mip and annealing models.\n",
    "    # For m = mip_plain, the objective is complete here, and the rest to add below is constraints.\n",
    "    # For all other models, we add the 'constraints' as penalised positive objective terms below.\n",
    "    \n",
    "    obj_index_list = [0]  # only gets used for m == 'mip_hier_obj'. The 0 index was used for the main original mip method.\n",
    "    if m in ['mip_hier_obj']:\n",
    "        print('obj_index = {:d}'.format(obj_index_list[0]))\n",
    "        model[m].setObjectiveN(obj_mip_obj[m], index=obj_index_list[0], priority=pri_main, weight=weight_main)\n",
    "        obj[m] = 0  # TODO: This is enough for now, but could be improved by setting obj[m]obj_index_list to the proper expression.\n",
    "    else:\n",
    "        obj[m] = obj_mip_obj[m]\n",
    "    # Complete the objective from MIP objective to QUBO objective.\n",
    "    # The pri_constr, pen_constr, logic here is this:\n",
    "    # Only for the mip_hier_obj with hierarchical objectives for Gurobi, do we really use the priority (pri) value.\n",
    "    # This is done inside the add_constr method itself.\n",
    "    # For the other methods, we don't use it. So the values set in the calls here, can directly be (and are)\n",
    "    # the ones for mip_hier_obj. For mip_hier_obj, the only requirement priority wise, to get a valid solution \n",
    "    # for the original mip problem, is that the priority of each of the 'constraints' is higher \n",
    "    # than the priority of the original mip objective. \n",
    "    # So 2 for the original mip obj and 1 for the add_constr (or pri_constr and 1*pri) will do then. \n",
    "    # So that's what we set them to here.\n",
    "    for i in range(N):\n",
    "        for j in range(i+1, N):\n",
    "            assert i < j\n",
    "            # note the += (i.o. -=) for all terms added. W minimise the obj[m] (for all methods).\n",
    "            # to the added terms here are pushed to be minimal, which is the idea, they hsould in fact be all zeor\n",
    "            # for a valid solution. So, we give them a high penalty pen_constr, that exceeds even a low value (1)\n",
    "            # of the mip objective. This seems, at least, to work for m == 'mip_qubo'.\n",
    "            lin2_ij = 2*( x[m][i] - x[m][j] + W * (p[m][i,j] + q[m][i,j]) - s2x[m][(i,j)] ) - (w[m][i]+w[m][j])\n",
    "            obj[m] += add_constr(obj[m], obj_index_list, pri_constr, pen_constr, lin2_ij, m, \n",
    "                                 'eq2', model[m], {'i': i, 'j': j})\n",
    "            \n",
    "            lin3_ij = 2*( x[m][j] - x[m][i] + W * (1-p[m][i,j] + q[m][i,j]) - s3x[m][(i,j)] ) - (w[m][i]+w[m][j])\n",
    "            obj[m] += add_constr(obj[m], obj_index_list, pri_constr, pen_constr, lin3_ij, m, \n",
    "                                 'eq3', model[m], {'i': i, 'j': j})\n",
    "            \n",
    "            lin4_ij = 2*( y[m][i] - y[m][j] + H * (  p[m][i,j] + 1-q[m][i,j]) - s4y[m][(i,j)] ) - (h[m][i]+h[m][j])\n",
    "            obj[m] += add_constr(obj[m], obj_index_list, pri_constr, pen_constr, lin4_ij, m, \n",
    "                                 'eq4', model[m], {'i': i, 'j': j})\n",
    "            \n",
    "            lin5_ij = 2*( y[m][j] - y[m][i] + H * (1-p[m][i,j] + 1-q[m][i,j]) - s5y[m][(i,j)] ) - (h[m][i]+h[m][j])\n",
    "            obj[m] += add_constr(obj[m], obj_index_list, pri_constr, pen_constr, lin5_ij, m, \n",
    "                                 'eq5', model[m], {'i': i, 'j': j})\n",
    "\n",
    "        lin10L_i = (w[m][i]/2 + s10xL[m][i] - x[m][i])\n",
    "        obj[m] += add_constr(obj[m], obj_index_list, pri_constr, pen_constr, lin10L_i, m, \n",
    "                             'eq10L', model[m], {'i': i})\n",
    "        \n",
    "        lin10R_i = (x[m][i] + s10xR[m][i] - W + w[m][i]/2)\n",
    "        obj[m] += add_constr(obj[m], obj_index_list, pri_constr, pen_constr, lin10R_i, m, \n",
    "                             'eq10R', model[m], {'i': i})\n",
    "        \n",
    "        lin11L_i = (h[m][i]/2 + s11yL[m][i] - y[m][i])\n",
    "        obj[m] += add_constr(obj[m], obj_index_list, pri_constr, pen_constr, lin11L_i, m, \n",
    "                             'eq11L', model[m], {'i': i})\n",
    "        \n",
    "        lin11R_i = (y[m][i] + s11yR[m][i] - H + h[m][i]/2)\n",
    "        obj[m] += add_constr(obj[m], obj_index_list, pri_constr, pen_constr, lin11R_i, m, \n",
    "                             'eq11R', model[m], {'i': i})\n",
    "\n",
    "        lin12_i = 1 - s12[m][i]  # eq (12) 1 - [slack variable] for inequality\n",
    "        lin13_i = w[m][i]  # eq(13) lhs\n",
    "        lin14_i = h[m][i]  # eq(14) lhs\n",
    "        for (t, (_, _)) in enumerate(cfg['rectangle_types'].items()):\n",
    "            lin12_i -= b[m][(i,t)]  # eq (12)\n",
    "            lin13_i -= b[m][(i,t)] * Wt[t]  # eq (13) rhs\n",
    "            lin14_i -= b[m][(i,t)] * Ht[t]  # eq (14) rhs\n",
    "\n",
    "        # The following constraints are amongst binaries, a diffefrence of 1 should be heavely penalised.\n",
    "        \n",
    "        #obj[m] += P * Constraint(lin12_i ** 2, label='eq12_{:d}'.format(i))\n",
    "        # eq (12): so this lin term is pos & minimal when *at most* one b[(i,t)] is 1. \n",
    "        # if none of them is, then s(i,t) must be 1 (at optimality), for all i\n",
    "        obj[m] += add_constr(obj[m], obj_index_list, pri, pen_constr, lin12_i, m, 'eq12', model[m], {'i': i})\n",
    "\n",
    "        #obj[m] += 3 * P * Constraint(lin13_i ** 2, label='eq13_{:d}'.format(i))\n",
    "        # eq (13): so this lin term is pos & minimal when w[t] = sum_t b[(i,t)]*Wt[t], for all i\n",
    "        obj[m] += add_constr(obj[m], obj_index_list, pri, pen_constr, lin13_i, m, 'eq13', model[m], {'i': i})\n",
    "\n",
    "        #obj[m] += 3 * P * Constraint(lin14 ** 2, label='eq14_{:d}'.format(i))\n",
    "        # eq (14): so this lin term is pos & minimal when h[t] = sum_t b[(i,t)]*Ht[t], for all i\n",
    "        obj[m] += add_constr(obj[m], obj_index_list, pri, pen_constr, lin14_i, m, 'eq14', model[m], {'i': i})\n",
    "\n",
    "    # The following constraints are amongst binaries, a diffefrence of 1 should be heavely penalised.\n",
    "    for (t, (_, _)) in enumerate(cfg['rectangle_types'].items()):\n",
    "        lin15_t = Nt[t] - s15[m][t]\n",
    "        for i in range(N):\n",
    "            lin15_t -= b[m][(i,t)]\n",
    "        #obj[m] += P *  Constraint(lin15 ** 2, label='eq15_{:d}'.format(t))\n",
    "        # eq (15) so this lin term is pos & minimal when Nt[t] = s15[t] + sum_i b[(i,t)], for all t\n",
    "        obj[m] += add_constr(obj[m], obj_index_list, pri, pen_constr, lin15_t, m, 'eq15', model[m], {'t': t})\n",
    "\n",
    "    annealing = m in ann_methods\n",
    "    if annealing:  # special step for annealing QUBO models\n",
    "        model[m] = obj[m].compile()\n",
    "    else:\n",
    "        pass  # nothing to do here for mpi model\n",
    "    \n",
    "    #print(obj[m]"
   ]
  },
  {
   "cell_type": "markdown",
   "metadata": {},
   "source": [
    "### Helper Function for Multi-Objective Case"
   ]
  },
  {
   "cell_type": "code",
   "execution_count": 11,
   "metadata": {
    "scrolled": true
   },
   "outputs": [],
   "source": [
    "# from: https://www.gurobi.com/documentation/9.1/refman/working_with_multiple_obje.html\n",
    "def query_multi_objective(m): # Read and solve a model with multiple objectives\n",
    "    # get the set of variables\n",
    "    x = m.getVars()\n",
    "\n",
    "    # Ensure status is optimal\n",
    "    assert m.Status == GRB.Status.OPTIMAL\n",
    "\n",
    "    # Query number of multiple objectives, and number of solutions\n",
    "    nSolutions  = m.SolCount\n",
    "    nObjectives = m.NumObj\n",
    "    print('Problem has', nObjectives, 'objectives')\n",
    "    print('Gurobi found', nSolutions, 'solutions')\n",
    "\n",
    "    # For each solution, print value of first three variables, and\n",
    "    # value for each objective function\n",
    "    solutions = []\n",
    "    for s in range(nSolutions):\n",
    "        # Set which solution we will query from now on\n",
    "        m.params.SolutionNumber = s\n",
    "\n",
    "        # Print objective value of this solution in each objective\n",
    "        print('Solution', s, ':', end='')\n",
    "        for o in range(nObjectives):\n",
    "            # Set which objective we will query\n",
    "            m.params.ObjNumber = o\n",
    "            # Query the o-th objective value\n",
    "            print(' ', m.ObjNVal, end=', ')\n",
    "\n",
    "    # print first three variables in the solution\n",
    "    max_n_vars = 100\n",
    "    n_vars = min(len(x), max_n_vars)\n",
    "    for j in range(n_vars):\n",
    "        print(x[j].VarName, x[j].Xn, end=', ')\n",
    "    print('')\n",
    "\n",
    "    # query the full vector of the o-th solution\n",
    "    solutions.append(m.getAttr('Xn', x))"
   ]
  },
  {
   "cell_type": "markdown",
   "metadata": {},
   "source": [
    "### Actually Solve Models with Selected Methods & Show Partial Results"
   ]
  },
  {
   "cell_type": "code",
   "execution_count": 12,
   "metadata": {
    "scrolled": true
   },
   "outputs": [],
   "source": [
    "#print(obj[m])"
   ]
  },
  {
   "cell_type": "code",
   "execution_count": 13,
   "metadata": {
    "scrolled": false
   },
   "outputs": [
    {
     "name": "stdout",
     "output_type": "stream",
     "text": [
      "\n",
      "-------------------- small_mip_plain --------------------\n",
      "Changed value of parameter Timelimit to 300.0\n",
      "   Prev: inf  Min: 0.0  Max: inf  Default: inf\n",
      "Gurobi Optimizer version 9.1.0 build v9.1.0rc0 (mac64)\n",
      "Thread count: 8 physical cores, 16 logical processors, using up to 16 threads\n",
      "Optimize a model with 20 rows, 30 columns and 76 nonzeros\n",
      "Model fingerprint: 0x52204a19\n",
      "Variable types: 20 continuous, 10 integer (10 binary)\n",
      "Coefficient statistics:\n",
      "  Matrix range     [5e-01, 4e+01]\n",
      "  Objective range  [1e+00, 1e+00]\n",
      "  Bounds range     [1e+00, 4e+01]\n",
      "  RHS range        [1e+00, 8e+01]\n",
      "Presolve removed 0 rows and 12 columns\n",
      "Presolve time: 0.00s\n",
      "Presolved: 20 rows, 18 columns, 64 nonzeros\n",
      "Variable types: 8 continuous, 10 integer (6 binary)\n",
      "\n",
      "Root relaxation: objective -2.000000e+00, 10 iterations, 0.00 seconds\n",
      "\n",
      "    Nodes    |    Current Node    |     Objective Bounds      |     Work\n",
      " Expl Unexpl |  Obj  Depth IntInf | Incumbent    BestBd   Gap | It/Node Time\n",
      "\n",
      "*    0     0               0      -2.0000000   -2.00000  0.00%     -    0s\n",
      "\n",
      "Explored 0 nodes (10 simplex iterations) in 0.01 seconds\n",
      "Thread count was 16 (of 16 available processors)\n",
      "\n",
      "Solution count 1: -2 \n",
      "No other solutions better than -2\n",
      "\n",
      "Optimal solution found (tolerance 1.00e-04)\n",
      "Best objective -2.000000000000e+00, best bound -2.000000000000e+00, gap 0.0000%\n",
      "status=\n",
      "2\n",
      "Model is solved optimally.\n",
      "mip_gap_reached is 0.000000.\n",
      "objective_value_reached is -2.000000.\n",
      "Spent 0.013159 seconds calculating.\n",
      "\n",
      "-------------------- small_mip_qubo --------------------\n",
      "Changed value of parameter Timelimit to 300.0\n",
      "   Prev: inf  Min: 0.0  Max: inf  Default: inf\n",
      "Gurobi Optimizer version 9.1.0 build v9.1.0rc0 (mac64)\n",
      "Thread count: 8 physical cores, 16 logical processors, using up to 16 threads\n",
      "Optimize a model with 0 rows, 30 columns and 0 nonzeros\n",
      "Model fingerprint: 0x98fad54a\n",
      "Model has 102 quadratic objective terms\n",
      "Variable types: 20 continuous, 10 integer (10 binary)\n",
      "Coefficient statistics:\n",
      "  Matrix range     [0e+00, 0e+00]\n",
      "  Objective range  [6e+00, 2e+04]\n",
      "  QObjective range [6e+00, 4e+04]\n",
      "  Bounds range     [1e+00, 4e+01]\n",
      "  RHS range        [0e+00, 0e+00]\n",
      "Found heuristic solution: objective 33612.000000\n",
      "Presolve time: 0.00s\n",
      "Presolved: 0 rows, 30 columns, 0 nonzeros\n",
      "Presolved model has 102 quadratic objective terms\n",
      "Variable types: 20 continuous, 10 integer (10 binary)\n",
      "\n",
      "Root relaxation: objective -2.083333e+00, 30 iterations, 0.00 seconds\n",
      "\n",
      "    Nodes    |    Current Node    |     Objective Bounds      |     Work\n",
      " Expl Unexpl |  Obj  Depth IntInf | Incumbent    BestBd   Gap | It/Node Time\n",
      "\n",
      "     0     0   -2.08333    0    5 33612.0000   -2.08333   100%     -    0s\n",
      "H    0     0                     185.7500000   -2.08333   101%     -    0s\n",
      "H    0     0                     122.7500000   -2.08333   102%     -    0s\n",
      "     0     0   -2.08333    0    5  122.75000   -2.08333   102%     -    0s\n",
      "H    0     0                      37.4166667   -2.08333   106%     -    0s\n",
      "H    0     0                      -2.0000000   -2.08333  4.17%     -    0s\n",
      "     0     2   -2.08333    0    5   -2.00000   -2.08333  4.17%     -    0s\n",
      "\n",
      "Explored 13 nodes (70 simplex iterations) in 0.02 seconds\n",
      "Thread count was 16 (of 16 available processors)\n",
      "\n",
      "Solution count 3: -2 185.75 33612 \n",
      "No other solutions better than -2\n",
      "\n",
      "Optimal solution found (tolerance 1.00e-04)\n",
      "Best objective -1.999999999993e+00, best bound -1.999999999993e+00, gap 0.0000%\n",
      "status=\n",
      "2\n",
      "Model is solved optimally.\n",
      "mip_gap_reached is 0.000000.\n",
      "objective_value_reached is -2.000000.\n",
      "Spent 0.020924 seconds calculating.\n",
      "\n",
      "-------------------- small_ann_sw --------------------\n",
      "\n",
      "-------------------- small_ann_hw_cliq --------------------\n",
      "[StructuredSolver(id='DW_2000Q_6'), BQMSolver(id='hybrid_binary_quadratic_model_version2'), DQMSolver(id='hybrid_discrete_quadratic_model_version1'), StructuredSolver(id='Advantage_system1.1')]\n",
      "sampler_abbrev = cliq\n",
      "{'anneal_offsets': ['parameters'], 'anneal_schedule': ['parameters'], 'annealing_time': ['parameters'], 'answer_mode': ['parameters'], 'flux_biases': ['parameters'], 'flux_drift_compensation': ['parameters'], 'h_gain_schedule': ['parameters'], 'initial_state': ['parameters'], 'max_answers': ['parameters'], 'num_reads': ['parameters'], 'num_spin_reversal_transforms': ['parameters'], 'programming_thermalization': ['parameters'], 'readout_thermalization': ['parameters'], 'reduce_intersample_correlation': ['parameters'], 'reinitialize_state': ['parameters'], 'warnings': []}\n",
      "\n",
      "-------------------- small_ann_hw_dws --------------------\n",
      "[StructuredSolver(id='DW_2000Q_6'), BQMSolver(id='hybrid_binary_quadratic_model_version2'), DQMSolver(id='hybrid_discrete_quadratic_model_version1'), StructuredSolver(id='Advantage_system1.1')]\n",
      "sampler_abbrev = dws\n",
      "\n",
      "-------------------- small_ann_hw_hyb --------------------\n",
      "[StructuredSolver(id='DW_2000Q_6'), BQMSolver(id='hybrid_binary_quadratic_model_version2'), DQMSolver(id='hybrid_discrete_quadratic_model_version1'), StructuredSolver(id='Advantage_system1.1')]\n",
      "sampler_abbrev = hyb\n",
      "{'time_limit': ['parameters']}\n",
      "Done with solving part for all solver methods.\n"
     ]
    }
   ],
   "source": [
    "from dwave.system import DWaveCliqueSampler, EmbeddingComposite, DWaveSampler, LeapHybridSampler\n",
    "\n",
    "#from dwave.cloud.solver import BQMSolver\n",
    "#sampler = BQMSolver(client=client, data={id:'hybrid_binary_quadratic_model_version2'})  \n",
    "# id='hybrid_binary_quadratic_model_version2'\n",
    "\n",
    "def select_the_right_solver_name(want_more_than_119_qubits, i_want_a_quantum_only_machine):\n",
    "    # I got some guidance here from Luca W on:\n",
    "    # https://support.dwavesys.com/hc/en-us/community/posts/1500000142522-How-to-avoid-violated-constraints-with-pyqubo-?page=1#community_comment_1500000145941            \n",
    "    # Luca at dwave answered this:\n",
    "    #The graph size of 119 you found is the largest fully-connected network when mapped \n",
    "    #to the Advantage QPU. For sparser networks, i.e. not all variables interact with each other, \n",
    "    #I would recommend a different sampler, for example the EmbeddingComposite. \n",
    "    #If your problem is larger than the QPU, the LeapHybridSampler would be a good option - \n",
    "    #it combines quantum and classical resources to solve very large and complex problems. \n",
    "    #Here is some documentation on available solvers in Ocean:\n",
    "    #https://docs.ocean.dwavesys.com/projects/system/en/stable/reference/samplers.html\n",
    "    if not want_more_than_119_qubits:\n",
    "        # (1) DWaveCliqueSampler:\n",
    "        # DWaveCliqueSampler contains a fully connected clique of 119 qubits. \n",
    "        # which is just enough for the smallest problem in the cfg. Thanks for explaining that Luca. :)\n",
    "        return 'DWaveCliqueSampler'  # works for very small examples (<=119 qubits)\n",
    "    else:\n",
    "        assert want_more_than_119_qubits\n",
    "        if i_want_a_quantum_only_machine:\n",
    "            # (2) EmbeddingComposite has more but smaller fully connected qubit sets. \n",
    "            # This is the quantum branch, \n",
    "            # for cfg = small_example, I consistently experience around 14,..17,18 violations here.\n",
    "            return 'DWaveSampler'  # This seems to start and give some output,\n",
    "            # but I never get to see the print('Done with this part.') at the end of this cell,\n",
    "            # so it seems to be 'hanging' ...?\n",
    "        else:  # This is the hybrid branch. I experience no violations here with this model.\n",
    "            # (3) LeapHybridSampler\n",
    "            return 'LeapHybridSampler'\n",
    "            # ERROR: later leads to: SolverFailureError: Unknown parameter num_reads\n",
    "            # in call: sampleset[m] = sampler.sample(bqm[m], num_reads=n_samples[m])\n",
    "            # so I leave out the num_reads=n_samples[m], but then get an empty solution apparantly.\n",
    "            \n",
    "def init_solver_by_abbreviation(solver_abbreviation):\n",
    "    assert solver_abbreviation in ['cliq', 'dws', 'hyb']\n",
    "    d = {'cliq': 'DWaveCliqueSampler', 'dws': 'DWaveSampler', 'hyb': 'LeapHybridSampler'}\n",
    "    return init_solver_by_name(d[solver_abbreviation])\n",
    "\n",
    "def init_solver_by_name(solver_name):\n",
    "    supports_n_samples = True\n",
    "    assert solver_name in ['DWaveCliqueSampler', 'DWaveSampler', 'LeapHybridSampler']\n",
    "    if solver_name == 'DWaveCliqueSampler':\n",
    "        return DWaveCliqueSampler(), supports_n_samples\n",
    "    elif solver_name == 'DWaveSampler':\n",
    "        return EmbeddingComposite(DWaveSampler()), supports_n_samples\n",
    "    elif solver_name == 'LeapHybridSampler':\n",
    "        return LeapHybridSampler(), not supports_n_samples\n",
    "\n",
    "# mip methods:\n",
    "# input:\n",
    "required_max_time_limit_s = {}\n",
    "required_max_time_limit_s['mip_plain'] = 300  # No more patience than that\n",
    "required_max_time_limit_s['mip_hier_obj'] = 300  # Normally None, since should run to the end \n",
    "# to avoid violations in hard constraints. However, for practical reasons this can be too long a wait.\n",
    "required_max_time_limit_s['mip_qubo'] = 300  # idem\n",
    "#required_max_time_limit_s['ann_sw'] = None  # idem\n",
    "#required_max_time_limit_s['ann_hw'] = None  # idem\n",
    "\n",
    "required_max_mip_gap = {}\n",
    "required_max_mip_gap['mip_plain'] = None\n",
    "required_max_mip_gap['mip_hier_obj'] = None\n",
    "required_max_mip_gap['mip_qubo'] = None  \n",
    "#required_max_mip_gap['ann_sw'] = None\n",
    "#required_max_mip_gap['ann_hw'] = None\n",
    "\n",
    "# required_max_time_limit_s # (1) Stop after searching this many seconds: [None or a float or int]\n",
    "# or/and\n",
    "# required_max_mip_gap  # 0.05 (2) Stop at this or lower fraction [None or a float or int]\n",
    "# between solution and estimated upperbound:\n",
    "# , whatever comes first.\n",
    "\n",
    "# output:\n",
    "mip_gap_reached = {}\n",
    "objective_value_reached = {}\n",
    "solver_time_used_s = {}\n",
    "feasible = {}\n",
    "\n",
    "# annealing methods:\n",
    "# towards output:\n",
    "bqm = {}\n",
    "n_samples = {}\n",
    "sampleset = {}\n",
    "decoded_samples = {}\n",
    "best_sample = {}\n",
    "n_samples['ann_sw'] = 100\n",
    "n_samples['ann_hw_cliq'] = 1000\n",
    "n_samples['ann_hw_dws'] = 1000\n",
    "n_samples['ann_hw_hyb'] = 1000\n",
    "\n",
    "# ann_hw_methods\n",
    "for m in run_methods: # you can read m as method or as model in the sequel    \n",
    "    print('\\n-------------------- ' + problem_name + '_' + m + ' --------------------')\n",
    "    if m in mip_methods:\n",
    "        model[m].ModelSense = gp.GRB.MINIMIZE  # gp.GRB.MAXIMIZE, we minimise to be compatible with the \n",
    "        # annealing methods which require minimisation ('coz the obj there is energy)')\n",
    "        if m not in ['mip_hier_obj']:\n",
    "            model[m].setObjective(obj[m])\n",
    "        else:\n",
    "            pass  # multiple objectives already separately set by setObjectoiveN call, do not override here.\n",
    "        assert required_max_time_limit_s[m] is None or \\\n",
    "            isinstance(required_max_time_limit_s[m], float) or \\\n",
    "            isinstance(required_max_time_limit_s[m], int)\n",
    "        assert required_max_mip_gap[m] is None or \\\n",
    "            isinstance(required_max_mip_gap[m], float) or \\\n",
    "            isinstance(required_max_mip_gap[m], int) \n",
    "        \n",
    "        if required_max_time_limit_s[m] is not None:\n",
    "            model[m].params.Timelimit = required_max_time_limit_s[m]\n",
    "        if required_max_mip_gap[m] is not None:\n",
    "            model[m].params.MIPGap = required_max_mip_gap[m]           \n",
    "        \n",
    "        lp_filename = '{:s}_{:s}_{:s}_Gurobi.lp'.format(filename_prefix, problem_name, m)\n",
    "        model[m].write(lp_filename)        \n",
    "        model[m].optimize()  # with Gurobi\n",
    "        #status = GRB.Status\n",
    "        status = model[m].Status\n",
    "        print('status=')\n",
    "        print(status)\n",
    "        if status == GRB.INFEASIBLE:\n",
    "            feasible[m] = False\n",
    "            print('Model is infeasible.')\n",
    "            model[m].computeIIS()\n",
    "            ilp_filename = '{:s}_{:s}_{:s}_Gurobi.ilp'.format(filename_prefix, problem_name, m)\n",
    "            model[m].write(ilp_filename)\n",
    "            print('  -> Wrote out Irreducible Inconsistent Subsystem (IIS) to file: \\'{:s}\\''.format(ilp_filename))\n",
    "            ilp_file = open(ilp_filename,'r')\n",
    "            ilp_contents = ilp_file.read()\n",
    "            print('\\nSo the following equations and/or variable type and/or range limits')\n",
    "            print('  are the smallest infeasible subset found in the full model.\\n')\n",
    "            print('*** ilp_contents begin ***')\n",
    "            print(ilp_contents)\n",
    "            print('*** ilp_contents end ***')\n",
    "            ilp_file.close()\n",
    "            assert False\n",
    "        else:\n",
    "            assert status in [GRB.OPTIMAL, GRB.TIME_LIMIT, GRB.USER_OBJ_LIMIT]\n",
    "            feasible[m] = True\n",
    "            if status == GRB.OPTIMAL:\n",
    "                print('Model is solved optimally.')\n",
    "            elif status == GRB.TIME_LIMIT:\n",
    "                print('Model solving was interrupted at reaching of user specified time limit.')\n",
    "            elif status == GRB.USER_OBJ_LIMIT:\n",
    "                print('Model solving was interrupted at reaching of user specified mip gap limit.')                \n",
    "            objective_value_reached[m] = model[m].objVal\n",
    "            if m in ['mip_hier_obj']:\n",
    "                query_multi_objective(model[m])\n",
    "            else:\n",
    "                mip_gap_reached[m] = model[m].MIPGap\n",
    "                print('mip_gap_reached is {:f}.'.format(mip_gap_reached[m]))\n",
    "                print('objective_value_reached is {:f}.'.format(objective_value_reached[m]))    \n",
    "        solver_time_used_s[m] = model[m].Runtime\n",
    "        print('Spent {:f} seconds calculating.'.format(solver_time_used_s[m]))  \n",
    "    else:\n",
    "        #used_LeapHybridSampler = False\n",
    "        supports_n_samples = True\n",
    "        #qubo, offset = model.to_qubo()  # why would we need this?\n",
    "        if m in ['ann_sw']:\n",
    "            pass\n",
    "            import neal\n",
    "            sampler = neal.SimulatedAnnealingSampler()\n",
    "        else:  # solve on a real dwave quantum computer\n",
    "            assert m in ann_hw_methods\n",
    "            from dwave.cloud import Client\n",
    "            # do not expose this:\n",
    "            by_explicit_token_in_code = True\n",
    "            if by_explicit_token_in_code:\n",
    "                client = Client.from_config(token='DEV-1111111111111111111111111111111111111111')\n",
    "            else:  # TODO: get this branch working without parse error\n",
    "                # so this is anonymous an non revealing:\n",
    "                client = Client.from_config(config_file='~/projects/dwave/MyDWaveQiskitApiToken.conf') \n",
    "            client.get_solvers()\n",
    "            print(client.get_solvers())\n",
    "                        \n",
    "            #sampler_abbrev = 'hyb'\n",
    "            sampler_abbrev = m.split('_')[-1]  # for example gives: m='ann_hw_hyb' -> sample_abbrev='hyb'\n",
    "            print('sampler_abbrev = ' + sampler_abbrev)\n",
    "            sampler, supports_n_samples = init_solver_by_abbreviation(sampler_abbrev)\n",
    "            \n",
    "            if sampler_abbrev not in ['dws']:\n",
    "                sampler.parameters\n",
    "                print(sampler.parameters)\n",
    "            \n",
    "        # For annealing models, we get common sampling code here to get the ebst sample.\n",
    "        bqm[m] = model[m].to_bqm()\n",
    "        if not (m in ann_methods and not supports_n_samples):\n",
    "            sampleset[m] = sampler.sample(bqm[m], num_reads=n_samples[m])\n",
    "        else: # num_reads arg not supported\n",
    "            assert not supports_n_samples\n",
    "            sampleset[m] = sampler.sample(bqm[m])\n",
    "        \n",
    "        decoded_samples[m] = model[m].decode_sampleset(sampleset[m])\n",
    "        best_sample[m] = min(decoded_samples[m], key=lambda f: f.energy)\n",
    "        #best_sample.sample # doctest: +SKIP\n",
    "        #print(best_sample.sample)\n",
    "\n",
    "print('Done with solving part for all solver methods.')"
   ]
  },
  {
   "cell_type": "markdown",
   "metadata": {},
   "source": [
    "### Show Full Solution from Annealing Methods"
   ]
  },
  {
   "cell_type": "code",
   "execution_count": 14,
   "metadata": {
    "scrolled": false
   },
   "outputs": [
    {
     "name": "stdout",
     "output_type": "stream",
     "text": [
      "\n",
      "-------------------- small_mip_plain --------------------\n",
      "\n",
      "-------------------- small_mip_qubo --------------------\n",
      "\n",
      "-------------------- small_ann_sw --------------------\n",
      "\n",
      "-------------------- small_ann_hw_cliq --------------------\n",
      "\n",
      "-------------------- small_ann_hw_dws --------------------\n",
      "\n",
      "-------------------- small_ann_hw_hyb --------------------\n"
     ]
    }
   ],
   "source": [
    "def close_int(value, tol=1e-6):\n",
    "    return value  # TODO: remove function if as silly as this (for now)\n",
    "\n",
    "    int_val = int(round(value))\n",
    "\n",
    "    if value >= -tol:\n",
    "        if int_val == 0:\n",
    "            return 0\n",
    "        return value # 0    \n",
    "    \n",
    "    # value is a float that is usually ver close to an int, return the int if closer than tol.\n",
    "    if abs(value - int_val) <= tol:  # We are close to an int\n",
    "        return int_val\n",
    "    else:\n",
    "        assert False  # if strict\n",
    "        return value\n",
    "\n",
    "for m in run_methods: # you can read m as method or as model in the sequel\n",
    "    print('\\n-------------------- ' + problem_name + '_' + m + ' --------------------')\n",
    "    if m in ann_methods:  \n",
    "        continue  # TODO: Disable this for now...\n",
    "        vars = list(zip(['b'], [b]))\n",
    "        for (var_name, var) in vars:\n",
    "            print(var_name + ':')\n",
    "\n",
    "            line = 'i\\\\t'\n",
    "            for (t, (_, _)) in enumerate(cfg['rectangle_types'].items()):\n",
    "                line += ' {:d}'.format(t)\n",
    "            print(line)\n",
    "\n",
    "            for i in range(N):\n",
    "                line = '{:d}  '.format(i)\n",
    "                for (t, (_, _)) in enumerate(cfg['rectangle_types'].items()):\n",
    "                    s = var_name + '_i{:d}_t{:d}'.format(i, t)\n",
    "                    val = best_sample[m].sample[s]\n",
    "                    line += ' {:d}'.format(val)  # is always 0 or 1\n",
    "                print(line)\n",
    "\n",
    "        vars = list(zip(['x', 'y', 'w', 'h', 's10xL', 's10xR', 's11yL', 's11yR', 's12'],\\\n",
    "                        [x, y, w, h, s10xL, s10xR, s11yL, s11yR, s12]))\n",
    "        for (var_name, var) in vars:\n",
    "            print(var_name + ':')\n",
    "\n",
    "            line = ' \\\\i '\n",
    "            for i in range(N):\n",
    "                line += ' {:3d}'.format(i)\n",
    "            print(line)\n",
    "\n",
    "            line = ' ' * (3+1)\n",
    "            for i, _ in var.items():\n",
    "                print(i)\n",
    "                assert isinstance(i, int)\n",
    "                s = var_name + '_{:d}'.format(i)        \n",
    "                if var_name in ['s12']:\n",
    "                    val = best_sample[m].sample[s]\n",
    "                    assert val in [0, 1]\n",
    "                else:\n",
    "                    val = best_sample[m].subh[s]\n",
    "                    assert int(val) == val\n",
    "                    assert val >= 0\n",
    "                line += ' {:3d}'.format(int(val))\n",
    "            print(line)\n",
    "\n",
    "        vars = list(zip(['p', 'q', 's2x', 's3x', 's4y', 's5y'], [p, q, s2x, s3x, s4y, s5y]))\n",
    "        for (var_name, var) in vars:\n",
    "            print(var_name + ':')\n",
    "\n",
    "            line = 'i\\\\j '\n",
    "            for j in range(N):\n",
    "                line += ' {:3d}'.format(j)\n",
    "            print(line)\n",
    "\n",
    "            for i in range(N):\n",
    "                line = ' {:3d}'.format(i)\n",
    "                for j in range(N):\n",
    "                    if j<=i:\n",
    "                        line += ' ' * (3+1)\n",
    "                    else:\n",
    "                        s = var_name + '_{:d}_{:d}'.format(i, j)\n",
    "                        if var_name in ['p', 'q']:\n",
    "                            val = best_sample[m].sample[s]\n",
    "                            assert val in [0, 1]\n",
    "                            line += ' {:3d}'.format(val)  # is always 0 or 1\n",
    "                        else:\n",
    "                            val = best_sample[m].subh[s]\n",
    "                            assert val == int(val)\n",
    "                            assert val >= 0\n",
    "                            line += ' {:3d}'.format(int(val))  # is always a positive integer\n",
    "                print(line)\n",
    "    else:  # gurobi\n",
    "        assert m in mip_methods\n",
    "        continue  # disable this for now\n",
    "        # TODO: Make this work generally, for all m that can occur here\n",
    "        vars = model[m].getVars()\n",
    "        for v in vars:\n",
    "            print('{:s} = {:f} ~= {:f}'.format(v.varName, v.x, close_int(v.x)))"
   ]
  },
  {
   "cell_type": "markdown",
   "metadata": {},
   "source": [
    "## Inspect Best Sample Solution Returned from Annealing Methods"
   ]
  },
  {
   "cell_type": "markdown",
   "metadata": {},
   "source": [
    "### Show Full Solution Itself"
   ]
  },
  {
   "cell_type": "code",
   "execution_count": 15,
   "metadata": {
    "scrolled": true
   },
   "outputs": [
    {
     "name": "stdout",
     "output_type": "stream",
     "text": [
      "\n",
      "-------------------- small_mip_plain --------------------\n",
      "\n",
      "-------------------- small_mip_qubo --------------------\n",
      "\n",
      "-------------------- small_ann_sw --------------------\n",
      "\n",
      "-------------------- small_ann_hw_cliq --------------------\n",
      "\n",
      "-------------------- small_ann_hw_dws --------------------\n",
      "\n",
      "-------------------- small_ann_hw_hyb --------------------\n"
     ]
    }
   ],
   "source": [
    "verbose = 1\n",
    "for m in run_methods: # you can read m as method or as model in the sequel\n",
    "    print('\\n-------------------- ' + problem_name + '_' + m + ' --------------------')\n",
    "    if m in ann_methods:\n",
    "        if verbose >= 2:\n",
    "            print(best_sample[m])\n",
    "    #decoded_sample = model.decode_sample(best_sample[m].sample) # vartype='BINARY')"
   ]
  },
  {
   "cell_type": "markdown",
   "metadata": {},
   "source": [
    "### Check for Violated Constraints"
   ]
  },
  {
   "cell_type": "code",
   "execution_count": 16,
   "metadata": {
    "scrolled": true
   },
   "outputs": [
    {
     "name": "stdout",
     "output_type": "stream",
     "text": [
      "\n",
      "-------------------- small_mip_plain --------------------\n",
      "\n",
      "-------------------- small_mip_qubo --------------------\n",
      "\n",
      "-------------------- small_ann_sw --------------------\n",
      "0 constraints are violated.\n",
      "\n",
      "-------------------- small_ann_hw_cliq --------------------\n",
      "19 constraints are violated.\n",
      "\n",
      "-------------------- small_ann_hw_dws --------------------\n",
      "18 constraints are violated.\n",
      "\n",
      "-------------------- small_ann_hw_hyb --------------------\n",
      "0 constraints are violated.\n"
     ]
    }
   ],
   "source": [
    "broken_constr_dict = {}\n",
    "n_violated_constraints = {}\n",
    "for m in run_methods: # you can read m as method or as model in the sequel\n",
    "    print('\\n-------------------- ' + problem_name + '_' + m + ' --------------------')\n",
    "    if m in ann_methods:\n",
    "        broken_constr_dict[m] = best_sample[m].constraints(only_broken=True)\n",
    "        n_violated_constraints[m] = len(broken_constr_dict[m].keys())\n",
    "        print('{:d} constraints are violated.'.format(n_violated_constraints[m]))\n",
    "        verbose = 0\n",
    "        if verbose >= 1:\n",
    "            print(broken_constr_dict[m])"
   ]
  },
  {
   "cell_type": "markdown",
   "metadata": {},
   "source": [
    "## Visualize Output"
   ]
  },
  {
   "cell_type": "markdown",
   "metadata": {},
   "source": [
    "### Postprocess Solutions to SVG Plots"
   ]
  },
  {
   "cell_type": "code",
   "execution_count": 17,
   "metadata": {
    "scrolled": false
   },
   "outputs": [
    {
     "name": "stdout",
     "output_type": "stream",
     "text": [
      "\n",
      "-------------------- small_mip_plain --------------------\n",
      "With this solving method, you could potentially get ERROR messeges.\n",
      "However, since the MILP model code is working fine, this should never happen here, \n",
      "since you should not have seen violated constraints above,\n",
      "since constraints are enforced the hard way in this method \n",
      "and no solution is returned if any of them is not satisfied.\n",
      "Wrote out file: 'Positioning_small_mip_plain.svg'\n",
      "\n",
      "-------------------- small_mip_qubo --------------------\n",
      "With this solving method, you can potentially get WARNING messeges.\n",
      "This should only occur if you got 'constraint 'violations above,\n",
      "because in this method 'constraints ' are really modelled als terms to minimise in the objective,\n",
      "but then they are not exactly zero, the constraints are effectively violated.\n",
      "Wrote out file: 'Positioning_small_mip_qubo.svg'\n",
      "\n",
      "-------------------- small_ann_sw --------------------\n",
      "With this solving method, you can potentially get WARNING messeges.\n",
      "This should only occur if you got 'constraint 'violations above,\n",
      "because in this method 'constraints ' are really modelled als terms to minimise in the objective,\n",
      "but then they are not exactly zero, the constraints are effectively violated.\n",
      "Wrote out file: 'Positioning_small_ann_sw.svg'\n",
      "\n",
      "-------------------- small_ann_hw_cliq --------------------\n",
      "With this solving method, you can potentially get WARNING messeges.\n",
      "This should only occur if you got 'constraint 'violations above,\n",
      "because in this method 'constraints ' are really modelled als terms to minimise in the objective,\n",
      "but then they are not exactly zero, the constraints are effectively violated.\n",
      "    WARNING: (Eq13): Wt[t] = 6.000000 while w[i] = 5.000000. They should be equal. (t=1, i=1).\n",
      "    WARNING: (Eq14): Ht[t] = 12.000000 while h[i] = 11.000000. They should be equal. (t=1, i=1).\n",
      "Wrote out file: 'Positioning_small_ann_hw_cliq.svg'\n",
      "\n",
      "-------------------- small_ann_hw_dws --------------------\n",
      "With this solving method, you can potentially get WARNING messeges.\n",
      "This should only occur if you got 'constraint 'violations above,\n",
      "because in this method 'constraints ' are really modelled als terms to minimise in the objective,\n",
      "but then they are not exactly zero, the constraints are effectively violated.\n",
      "    WARNING: (Eq13): Wt[t] = 8.000000 while w[i] = 4.000000. They should be equal. (t=0, i=0).\n",
      "    WARNING: (Eq14): Ht[t] = 4.000000 while h[i] = 5.000000. They should be equal. (t=0, i=0).\n",
      "    WARNING: (Eq13): Wt[t] = 6.000000 while w[i] = 2.000000. They should be equal. (t=1, i=1).\n",
      "    WARNING: (Eq14): Ht[t] = 12.000000 while h[i] = 5.000000. They should be equal. (t=1, i=1).\n",
      "Wrote out file: 'Positioning_small_ann_hw_dws.svg'\n",
      "\n",
      "-------------------- small_ann_hw_hyb --------------------\n",
      "With this solving method, you can potentially get WARNING messeges.\n",
      "This should only occur if you got 'constraint 'violations above,\n",
      "because in this method 'constraints ' are really modelled als terms to minimise in the objective,\n",
      "but then they are not exactly zero, the constraints are effectively violated.\n",
      "Wrote out file: 'Positioning_small_ann_hw_hyb.svg'\n"
     ]
    }
   ],
   "source": [
    "tol = 1e-6\n",
    "\n",
    "assert cfg['room']['dy'] / resolution_in_m == H\n",
    "assert cfg['room']['dx'] / resolution_in_m == W\n",
    "\n",
    "verbose = 0\n",
    "svg_filename = {}\n",
    "stroke_width = 2\n",
    "for m in run_methods: # you can read m as method or as model in the sequel\n",
    "    print('\\n-------------------- ' + problem_name + '_' + m + ' --------------------')\n",
    "    if m in mip_methods:\n",
    "        a = False  # a= annealing\n",
    "    else:\n",
    "        a = True  # a= annealing\n",
    "    # TODO: Should we be permissive for m=='mip_hier_obj'? Test...\n",
    "    permissive = m in ['mip_hier_obj', 'mip_qubo'] + ann_methods # a or (not a and global_mip_mimicking_qubo)\n",
    "    severity = 'WARNING' if permissive else 'ERROR'\n",
    "    if severity == 'WARNING':\n",
    "        print('With this solving method, you can potentially get ' + severity + ' messeges.')\n",
    "        print('This should only occur if you got \\'constraint \\'violations above,')\n",
    "        print('because in this method \\'constraints \\' are really modelled als terms to minimise in the objective,')\n",
    "        print('but then they are not exactly zero, the constraints are effectively violated.')\n",
    "    else:\n",
    "        print('With this solving method, you could potentially get ' + severity + ' messeges.')\n",
    "        print('However, since the MILP model code is working fine, this should never happen here, ')\n",
    "        print('since you should not have seen violated constraints above,')\n",
    "        print('since constraints are enforced the hard way in this method ')\n",
    "        print('and no solution is returned if any of them is not satisfied.')\n",
    "        \n",
    "    s = pixels_per_m = 7  # scale\n",
    "    o = 20  # offset pixels\n",
    "    svg_filename[m] = '{:s}_{:s}_{:s}.svg'.format(filename_prefix, problem_name, m)\n",
    "    dwg = svgwrite.Drawing(svg_filename[m], profile='full', \n",
    "                           size=((2*(stroke_width+o)+W*s), (2*(stroke_width+o)+H*s)))\n",
    "    room_color = cfg['room']['color']\n",
    "    dwg.add(dwg.rect((o, o), (W*s, H*s), stroke=room_color,  stroke_width=stroke_width,\n",
    "                     fill=room_color, opacity=0.3))\n",
    "    for i in range(N):\n",
    "        if verbose >= 2:\n",
    "            print('i = {:d}'.format(i))\n",
    "        for j in range(i+1, N):\n",
    "            if verbose >= 2:\n",
    "                print('  j = {:d}'.format(i))\n",
    "            ss2x = (best_sample[m].subh['s2x_i{:d}_j{:d}'.format(i, j)] if a else (s2x[m][(i,j)].x))\n",
    "            ss3x = (best_sample[m].subh['s3x_i{:d}_j{:d}'.format(i, j)] if a else (s3x[m][(i,j)].x))\n",
    "            ss4y = (best_sample[m].subh['s4y_i{:d}_j{:d}'.format(i, j)] if a else (s4y[m][(i,j)].x))\n",
    "            ss5y = (best_sample[m].subh['s5y_i{:d}_j{:d}'.format(i, j)] if a else (s5y[m][(i,j)].x))\n",
    "            if verbose >= 2:\n",
    "                print([ss2x, ss3x, ss4y, ss5y])\n",
    "            assert ss2x >= -tol\n",
    "            assert ss3x >= -tol\n",
    "            assert ss4y >= -tol\n",
    "            assert ss5y >= -tol\n",
    "        found_t = False\n",
    "        for (t, (table_type_name, table_type)) in enumerate(cfg['rectangle_types'].items()):\n",
    "            if verbose >= 2:\n",
    "                print('  t = {:d}'.format(t))\n",
    "            val = best_sample[m].sample['b_i{:d}_t{:d}'.format(i, t)] if a else int(b[m][(i,t)].x)\n",
    "            table_color = table_type['color']\n",
    "            assert val in [0,1]\n",
    "            if val == 1:  # b(i,t), table i is of table type t\n",
    "                if not permissive:\n",
    "                    assert not found_t\n",
    "                xx = best_sample[m].subh['x_i{:d}'.format(i)] if a else (x[m][i].x)\n",
    "                yy = best_sample[m].subh['y_i{:d}'.format(i)] if a else (y[m][i].x)\n",
    "                ww = best_sample[m].subh['w_i{:d}'.format(i)] if a else (w[m][i].x)\n",
    "                hh = best_sample[m].subh['h_i{:d}'.format(i)] if a else (h[m][i].x)\n",
    "                if abs(Wt[t] - ww) >= tol:\n",
    "                    msg = '    ' + severity + ': (Eq13): Wt[t] = {:f} while w[i] = {:f}.'.format(Wt[t], ww)\n",
    "                    msg += ' They should be equal.' + ' (t={:d}, i={:d}).'.format(t, i)\n",
    "                    print(msg)\n",
    "                    if not permissive:\n",
    "                        assert False\n",
    "                if abs(Ht[t] - hh) >= tol:\n",
    "                    msg = '    ' + severity + ': (Eq14): Ht[t] = {:f} while h[i] = {:f}.'.format(Ht[t], hh)\n",
    "                    msg += ' They should be equal.' + ' (t={:d}, i={:d}).'.format(t, i)\n",
    "                    print(msg)\n",
    "                    if not permissive:\n",
    "                        assert False\n",
    "                #ss12 = best_sample[m].subh['s12_i{:d}'.format(i)] if a else (s12[m][i].x)\n",
    "                #ss12 = (s12[m][i]) if a else (s12[m][i].x)\n",
    "                #print(ss12)\n",
    "                #assert ss12 in [0, 1]\n",
    "                \n",
    "                font_width = 8\n",
    "                dwg.add(dwg.text('i{:d}:v{:.0f}'.format(i,Vt[t]), insert=(o+xx*s-2*font_width, o+yy*s)))\n",
    "                dwg.add(dwg.rect((o+(xx-ww/2)*s, o+(yy-hh/2)*s), (ww*s, hh*s),\n",
    "                                 stroke=table_color, stroke_width=stroke_width,\n",
    "                                 fill=table_color, opacity=0.3))\n",
    "                found_t = True\n",
    "            else:\n",
    "                if verbose >= 2:\n",
    "                    print('    n.a.')\n",
    "                pass  # table i is not of type t, so nothing to do here\n",
    "\n",
    "    dwg.save()\n",
    "    print('Wrote out file: \\'{:s}\\''.format(svg_filename[m]))"
   ]
  },
  {
   "cell_type": "markdown",
   "metadata": {},
   "source": [
    "Repeating the input to have it close to the output for understanding and comparison."
   ]
  },
  {
   "cell_type": "markdown",
   "metadata": {},
   "source": [
    "### Reproduce Input (Close to Output)"
   ]
  },
  {
   "cell_type": "code",
   "execution_count": 18,
   "metadata": {
    "scrolled": false
   },
   "outputs": [
    {
     "name": "stdout",
     "output_type": "stream",
     "text": [
      "{\n",
      "  \"room\": {\n",
      "    \"dy\": 2,\n",
      "    \"dx\": 2,\n",
      "    \"color\": \"green\"\n",
      "  },\n",
      "  \"rectangle_types\": {\n",
      "    \"wide\": {\n",
      "      \"dy\": 0.4,\n",
      "      \"dx\": 0.8,\n",
      "      \"value\": 1.0,\n",
      "      \"max_number\": 1,\n",
      "      \"color\": \"blue\"\n",
      "    },\n",
      "    \"sqish\": {\n",
      "      \"dy\": 1.2,\n",
      "      \"dx\": 0.6,\n",
      "      \"value\": 1.0,\n",
      "      \"max_number\": 1,\n",
      "      \"color\": \"orange\"\n",
      "    }\n",
      "  }\n",
      "}\n"
     ]
    }
   ],
   "source": [
    "print(cfg_json_str)"
   ]
  },
  {
   "cell_type": "markdown",
   "metadata": {},
   "source": [
    "### Show Generated SVG Plots"
   ]
  },
  {
   "cell_type": "code",
   "execution_count": 19,
   "metadata": {
    "code_folding": [],
    "collapsed": true,
    "scrolled": true
   },
   "outputs": [
    {
     "name": "stdout",
     "output_type": "stream",
     "text": [
      "In each table rectangle, the number 'i'-prefixed number refers to the table's index\n",
      "and the 'v'-prefixed number to the value that table contributes to the objective value.\n",
      "\n",
      "-------------------- small_mip_plain --------------------\n"
     ]
    },
    {
     "data": {
      "image/svg+xml": [
       "<svg xmlns=\"http://www.w3.org/2000/svg\" xmlns:ev=\"http://www.w3.org/2001/xml-events\" xmlns:xlink=\"http://www.w3.org/1999/xlink\" baseProfile=\"full\" height=\"184.0\" version=\"1.1\" width=\"184.0\"><defs/><rect fill=\"green\" height=\"140.0\" opacity=\"0.3\" stroke=\"green\" stroke-width=\"2\" width=\"140.0\" x=\"20\" y=\"20\"/><text x=\"81.0\" y=\"62.0\">i0:v1</text><rect fill=\"orange\" height=\"84.0\" opacity=\"0.3\" stroke=\"orange\" stroke-width=\"2\" width=\"42.0\" x=\"76.0\" y=\"20.0\"/><text x=\"32.0\" y=\"34.0\">i1:v1</text><rect fill=\"blue\" height=\"28.0\" opacity=\"0.3\" stroke=\"blue\" stroke-width=\"2\" width=\"56.0\" x=\"20.0\" y=\"20.0\"/></svg>"
      ],
      "text/plain": [
       "<IPython.core.display.SVG object>"
      ]
     },
     "metadata": {},
     "output_type": "display_data"
    },
    {
     "name": "stdout",
     "output_type": "stream",
     "text": [
      "The objective_value_reached is -2.000000.\n",
      "The mip_gap the solver returns for this solution is 0.0000. This means the solver has proven that\n",
      "this solution, in terms of the objective, is *at most* 0.00% removed from the optimal solution.\n",
      "\n",
      "-------------------- small_mip_qubo --------------------\n"
     ]
    },
    {
     "data": {
      "image/svg+xml": [
       "<svg xmlns=\"http://www.w3.org/2000/svg\" xmlns:ev=\"http://www.w3.org/2001/xml-events\" xmlns:xlink=\"http://www.w3.org/1999/xlink\" baseProfile=\"full\" height=\"184.0\" version=\"1.1\" width=\"184.0\"><defs/><rect fill=\"green\" height=\"140.0\" opacity=\"0.3\" stroke=\"green\" stroke-width=\"2\" width=\"140.0\" x=\"20\" y=\"20\"/><text x=\"123.0\" y=\"62.000000000000036\">i0:v1</text><rect fill=\"orange\" height=\"84.0\" opacity=\"0.3\" stroke=\"orange\" stroke-width=\"2\" width=\"41.99999999999999\" x=\"118.0\" y=\"20.000000000000036\"/><text x=\"32.00000000000001\" y=\"118.00000000000006\">i1:v1</text><rect fill=\"blue\" height=\"28.000000000000007\" opacity=\"0.3\" stroke=\"blue\" stroke-width=\"2\" width=\"56.0\" x=\"20.000000000000007\" y=\"104.00000000000006\"/></svg>"
      ],
      "text/plain": [
       "<IPython.core.display.SVG object>"
      ]
     },
     "metadata": {},
     "output_type": "display_data"
    },
    {
     "name": "stdout",
     "output_type": "stream",
     "text": [
      "The objective_value_reached is -2.000000.\n",
      "\n",
      "-------------------- small_ann_sw --------------------\n"
     ]
    },
    {
     "data": {
      "image/svg+xml": [
       "<svg xmlns=\"http://www.w3.org/2000/svg\" xmlns:ev=\"http://www.w3.org/2001/xml-events\" xmlns:xlink=\"http://www.w3.org/1999/xlink\" baseProfile=\"full\" height=\"184.0\" version=\"1.1\" width=\"184.0\"><defs/><rect fill=\"green\" height=\"140.0\" opacity=\"0.3\" stroke=\"green\" stroke-width=\"2\" width=\"140.0\" x=\"20\" y=\"20\"/><text x=\"67.0\" y=\"62.0\">i1:v1</text><rect fill=\"orange\" height=\"84.0\" opacity=\"0.3\" stroke=\"orange\" stroke-width=\"2\" width=\"42.0\" x=\"62.0\" y=\"20.0\"/></svg>"
      ],
      "text/plain": [
       "<IPython.core.display.SVG object>"
      ]
     },
     "metadata": {},
     "output_type": "display_data"
    },
    {
     "name": "stdout",
     "output_type": "stream",
     "text": [
      "\n",
      "-------------------- small_ann_hw_cliq --------------------\n"
     ]
    },
    {
     "data": {
      "image/svg+xml": [
       "<svg xmlns=\"http://www.w3.org/2000/svg\" xmlns:ev=\"http://www.w3.org/2001/xml-events\" xmlns:xlink=\"http://www.w3.org/1999/xlink\" baseProfile=\"full\" height=\"184.0\" version=\"1.1\" width=\"184.0\"><defs/><rect fill=\"green\" height=\"140.0\" opacity=\"0.3\" stroke=\"green\" stroke-width=\"2\" width=\"140.0\" x=\"20\" y=\"20\"/><text x=\"53.0\" y=\"111.0\">i1:v1</text><rect fill=\"orange\" height=\"77.0\" opacity=\"0.3\" stroke=\"orange\" stroke-width=\"2\" width=\"35.0\" x=\"51.5\" y=\"72.5\"/></svg>"
      ],
      "text/plain": [
       "<IPython.core.display.SVG object>"
      ]
     },
     "metadata": {},
     "output_type": "display_data"
    },
    {
     "name": "stdout",
     "output_type": "stream",
     "text": [
      "\n",
      "-------------------- small_ann_hw_dws --------------------\n"
     ]
    },
    {
     "data": {
      "image/svg+xml": [
       "<svg xmlns=\"http://www.w3.org/2000/svg\" xmlns:ev=\"http://www.w3.org/2001/xml-events\" xmlns:xlink=\"http://www.w3.org/1999/xlink\" baseProfile=\"full\" height=\"184.0\" version=\"1.1\" width=\"184.0\"><defs/><rect fill=\"green\" height=\"140.0\" opacity=\"0.3\" stroke=\"green\" stroke-width=\"2\" width=\"140.0\" x=\"20\" y=\"20\"/><text x=\"39.0\" y=\"146.0\">i0:v1</text><rect fill=\"blue\" height=\"35.0\" opacity=\"0.3\" stroke=\"blue\" stroke-width=\"2\" width=\"28.0\" x=\"41.0\" y=\"128.5\"/><text x=\"88.0\" y=\"97.0\">i1:v1</text><rect fill=\"orange\" height=\"35.0\" opacity=\"0.3\" stroke=\"orange\" stroke-width=\"2\" width=\"14.0\" x=\"97.0\" y=\"79.5\"/></svg>"
      ],
      "text/plain": [
       "<IPython.core.display.SVG object>"
      ]
     },
     "metadata": {},
     "output_type": "display_data"
    },
    {
     "name": "stdout",
     "output_type": "stream",
     "text": [
      "\n",
      "-------------------- small_ann_hw_hyb --------------------\n"
     ]
    },
    {
     "data": {
      "image/svg+xml": [
       "<svg xmlns=\"http://www.w3.org/2000/svg\" xmlns:ev=\"http://www.w3.org/2001/xml-events\" xmlns:xlink=\"http://www.w3.org/1999/xlink\" baseProfile=\"full\" height=\"184.0\" version=\"1.1\" width=\"184.0\"><defs/><rect fill=\"green\" height=\"140.0\" opacity=\"0.3\" stroke=\"green\" stroke-width=\"2\" width=\"140.0\" x=\"20\" y=\"20\"/><text x=\"46.0\" y=\"118.0\">i0:v1</text><rect fill=\"blue\" height=\"28.0\" opacity=\"0.3\" stroke=\"blue\" stroke-width=\"2\" width=\"56.0\" x=\"34.0\" y=\"104.0\"/><text x=\"116.0\" y=\"118.0\">i1:v1</text><rect fill=\"orange\" height=\"84.0\" opacity=\"0.3\" stroke=\"orange\" stroke-width=\"2\" width=\"42.0\" x=\"111.0\" y=\"76.0\"/></svg>"
      ],
      "text/plain": [
       "<IPython.core.display.SVG object>"
      ]
     },
     "metadata": {},
     "output_type": "display_data"
    }
   ],
   "source": [
    "print('In each table rectangle, the number \\'i\\'-prefixed number refers to the table\\'s index')\n",
    "print('and the \\'v\\'-prefixed number to the value that table contributes to the objective value.')\n",
    "for m in run_methods:\n",
    "    print('\\n-------------------- ' + problem_name + '_' + m + ' --------------------')\n",
    "    \n",
    "    display(SVG(svg_filename[m]))\n",
    "    \n",
    "    # in addition to showing the svg:\n",
    "    if m in mip_methods:\n",
    "        print('The objective_value_reached is {:f}.'.format(objective_value_reached[m]))\n",
    "        if m == 'mip_plain':\n",
    "            print('The mip_gap the solver returns for this solution is {:.4f}. This means the solver has proven that'.\n",
    "                  format(mip_gap_reached[m]))\n",
    "            print('this solution, in terms of the objective, is *at most* {:.2f}% removed from the optimal solution.'.\n",
    "                  format(100 * mip_gap_reached[m]))    "
   ]
  },
  {
   "cell_type": "code",
   "execution_count": 20,
   "metadata": {
    "scrolled": false
   },
   "outputs": [
    {
     "name": "stdout",
     "output_type": "stream",
     "text": [
      "\n",
      "-------------------- small_mip_plain --------------------\n"
     ]
    },
    {
     "data": {
      "image/svg+xml": [
       "<svg xmlns=\"http://www.w3.org/2000/svg\" xmlns:ev=\"http://www.w3.org/2001/xml-events\" xmlns:xlink=\"http://www.w3.org/1999/xlink\" baseProfile=\"full\" height=\"184.0\" version=\"1.1\" width=\"184.0\"><defs/><rect fill=\"green\" height=\"140.0\" opacity=\"0.3\" stroke=\"green\" stroke-width=\"2\" width=\"140.0\" x=\"20\" y=\"20\"/><text x=\"81.0\" y=\"62.0\">i0:v1</text><rect fill=\"orange\" height=\"84.0\" opacity=\"0.3\" stroke=\"orange\" stroke-width=\"2\" width=\"42.0\" x=\"76.0\" y=\"20.0\"/><text x=\"32.0\" y=\"34.0\">i1:v1</text><rect fill=\"blue\" height=\"28.0\" opacity=\"0.3\" stroke=\"blue\" stroke-width=\"2\" width=\"56.0\" x=\"20.0\" y=\"20.0\"/></svg>"
      ],
      "text/plain": [
       "<IPython.core.display.SVG object>"
      ]
     },
     "metadata": {},
     "output_type": "display_data"
    },
    {
     "name": "stdout",
     "output_type": "stream",
     "text": [
      "\n",
      "-------------------- small_mip_qubo --------------------\n"
     ]
    },
    {
     "data": {
      "image/svg+xml": [
       "<svg xmlns=\"http://www.w3.org/2000/svg\" xmlns:ev=\"http://www.w3.org/2001/xml-events\" xmlns:xlink=\"http://www.w3.org/1999/xlink\" baseProfile=\"full\" height=\"184.0\" version=\"1.1\" width=\"184.0\"><defs/><rect fill=\"green\" height=\"140.0\" opacity=\"0.3\" stroke=\"green\" stroke-width=\"2\" width=\"140.0\" x=\"20\" y=\"20\"/><text x=\"123.0\" y=\"62.000000000000036\">i0:v1</text><rect fill=\"orange\" height=\"84.0\" opacity=\"0.3\" stroke=\"orange\" stroke-width=\"2\" width=\"41.99999999999999\" x=\"118.0\" y=\"20.000000000000036\"/><text x=\"32.00000000000001\" y=\"118.00000000000006\">i1:v1</text><rect fill=\"blue\" height=\"28.000000000000007\" opacity=\"0.3\" stroke=\"blue\" stroke-width=\"2\" width=\"56.0\" x=\"20.000000000000007\" y=\"104.00000000000006\"/></svg>"
      ],
      "text/plain": [
       "<IPython.core.display.SVG object>"
      ]
     },
     "metadata": {},
     "output_type": "display_data"
    },
    {
     "name": "stdout",
     "output_type": "stream",
     "text": [
      "\n",
      "-------------------- small_ann_sw --------------------\n"
     ]
    },
    {
     "data": {
      "image/svg+xml": [
       "<svg xmlns=\"http://www.w3.org/2000/svg\" xmlns:ev=\"http://www.w3.org/2001/xml-events\" xmlns:xlink=\"http://www.w3.org/1999/xlink\" baseProfile=\"full\" height=\"184.0\" version=\"1.1\" width=\"184.0\"><defs/><rect fill=\"green\" height=\"140.0\" opacity=\"0.3\" stroke=\"green\" stroke-width=\"2\" width=\"140.0\" x=\"20\" y=\"20\"/><text x=\"67.0\" y=\"62.0\">i1:v1</text><rect fill=\"orange\" height=\"84.0\" opacity=\"0.3\" stroke=\"orange\" stroke-width=\"2\" width=\"42.0\" x=\"62.0\" y=\"20.0\"/></svg>"
      ],
      "text/plain": [
       "<IPython.core.display.SVG object>"
      ]
     },
     "metadata": {},
     "output_type": "display_data"
    },
    {
     "name": "stdout",
     "output_type": "stream",
     "text": [
      "\n",
      "-------------------- small_ann_hw_cliq --------------------\n"
     ]
    },
    {
     "data": {
      "image/svg+xml": [
       "<svg xmlns=\"http://www.w3.org/2000/svg\" xmlns:ev=\"http://www.w3.org/2001/xml-events\" xmlns:xlink=\"http://www.w3.org/1999/xlink\" baseProfile=\"full\" height=\"184.0\" version=\"1.1\" width=\"184.0\"><defs/><rect fill=\"green\" height=\"140.0\" opacity=\"0.3\" stroke=\"green\" stroke-width=\"2\" width=\"140.0\" x=\"20\" y=\"20\"/><text x=\"53.0\" y=\"111.0\">i1:v1</text><rect fill=\"orange\" height=\"77.0\" opacity=\"0.3\" stroke=\"orange\" stroke-width=\"2\" width=\"35.0\" x=\"51.5\" y=\"72.5\"/></svg>"
      ],
      "text/plain": [
       "<IPython.core.display.SVG object>"
      ]
     },
     "metadata": {},
     "output_type": "display_data"
    },
    {
     "name": "stdout",
     "output_type": "stream",
     "text": [
      "\n",
      "-------------------- small_ann_hw_dws --------------------\n"
     ]
    },
    {
     "data": {
      "image/svg+xml": [
       "<svg xmlns=\"http://www.w3.org/2000/svg\" xmlns:ev=\"http://www.w3.org/2001/xml-events\" xmlns:xlink=\"http://www.w3.org/1999/xlink\" baseProfile=\"full\" height=\"184.0\" version=\"1.1\" width=\"184.0\"><defs/><rect fill=\"green\" height=\"140.0\" opacity=\"0.3\" stroke=\"green\" stroke-width=\"2\" width=\"140.0\" x=\"20\" y=\"20\"/><text x=\"39.0\" y=\"146.0\">i0:v1</text><rect fill=\"blue\" height=\"35.0\" opacity=\"0.3\" stroke=\"blue\" stroke-width=\"2\" width=\"28.0\" x=\"41.0\" y=\"128.5\"/><text x=\"88.0\" y=\"97.0\">i1:v1</text><rect fill=\"orange\" height=\"35.0\" opacity=\"0.3\" stroke=\"orange\" stroke-width=\"2\" width=\"14.0\" x=\"97.0\" y=\"79.5\"/></svg>"
      ],
      "text/plain": [
       "<IPython.core.display.SVG object>"
      ]
     },
     "metadata": {},
     "output_type": "display_data"
    },
    {
     "name": "stdout",
     "output_type": "stream",
     "text": [
      "\n",
      "-------------------- small_ann_hw_hyb --------------------\n"
     ]
    },
    {
     "data": {
      "image/svg+xml": [
       "<svg xmlns=\"http://www.w3.org/2000/svg\" xmlns:ev=\"http://www.w3.org/2001/xml-events\" xmlns:xlink=\"http://www.w3.org/1999/xlink\" baseProfile=\"full\" height=\"184.0\" version=\"1.1\" width=\"184.0\"><defs/><rect fill=\"green\" height=\"140.0\" opacity=\"0.3\" stroke=\"green\" stroke-width=\"2\" width=\"140.0\" x=\"20\" y=\"20\"/><text x=\"46.0\" y=\"118.0\">i0:v1</text><rect fill=\"blue\" height=\"28.0\" opacity=\"0.3\" stroke=\"blue\" stroke-width=\"2\" width=\"56.0\" x=\"34.0\" y=\"104.0\"/><text x=\"116.0\" y=\"118.0\">i1:v1</text><rect fill=\"orange\" height=\"84.0\" opacity=\"0.3\" stroke=\"orange\" stroke-width=\"2\" width=\"42.0\" x=\"111.0\" y=\"76.0\"/></svg>"
      ],
      "text/plain": [
       "<IPython.core.display.SVG object>"
      ]
     },
     "metadata": {},
     "output_type": "display_data"
    },
    {
     "name": "stdout",
     "output_type": "stream",
     "text": [
      "\n",
      "-------------------- medium_mip_plain --------------------\n"
     ]
    },
    {
     "data": {
      "image/svg+xml": [
       "<svg xmlns=\"http://www.w3.org/2000/svg\" xmlns:ev=\"http://www.w3.org/2001/xml-events\" xmlns:xlink=\"http://www.w3.org/1999/xlink\" baseProfile=\"full\" height=\"324.0\" version=\"1.1\" width=\"744.0\"><defs/><rect fill=\"green\" height=\"280.0\" opacity=\"0.3\" stroke=\"green\" stroke-width=\"2\" width=\"700.0\" x=\"20\" y=\"20\"/><text x=\"192.9999999999976\" y=\"69.0\">i0:v1</text><rect fill=\"orange\" height=\"98.0\" opacity=\"0.3\" stroke=\"orange\" stroke-width=\"2\" width=\"98.0\" x=\"159.9999999999976\" y=\"20.0\"/><text x=\"74.0\" y=\"62.0\">i1:v1</text><rect fill=\"blue\" height=\"84.0\" opacity=\"0.3\" stroke=\"blue\" stroke-width=\"2\" width=\"140.0\" x=\"20.0\" y=\"20.0\"/></svg>"
      ],
      "text/plain": [
       "<IPython.core.display.SVG object>"
      ]
     },
     "metadata": {},
     "output_type": "display_data"
    },
    {
     "name": "stdout",
     "output_type": "stream",
     "text": [
      "\n",
      "-------------------- medium_mip_qubo --------------------\n"
     ]
    },
    {
     "data": {
      "image/svg+xml": [
       "<svg xmlns=\"http://www.w3.org/2000/svg\" xmlns:ev=\"http://www.w3.org/2001/xml-events\" xmlns:xlink=\"http://www.w3.org/1999/xlink\" baseProfile=\"full\" height=\"324.0\" version=\"1.1\" width=\"744.0\"><defs/><rect fill=\"green\" height=\"280.0\" opacity=\"0.3\" stroke=\"green\" stroke-width=\"2\" width=\"700.0\" x=\"20\" y=\"20\"/><text x=\"633.9999999999998\" y=\"62.0\">i0:v1</text><rect fill=\"blue\" height=\"84.0\" opacity=\"0.3\" stroke=\"blue\" stroke-width=\"2\" width=\"140.0\" x=\"579.9999999999998\" y=\"20.0\"/><text x=\"52.99999999999977\" y=\"153.0\">i1:v1</text><rect fill=\"orange\" height=\"98.0\" opacity=\"0.3\" stroke=\"orange\" stroke-width=\"2\" width=\"97.99999999999994\" x=\"19.999999999999794\" y=\"104.0\"/></svg>"
      ],
      "text/plain": [
       "<IPython.core.display.SVG object>"
      ]
     },
     "metadata": {},
     "output_type": "display_data"
    },
    {
     "name": "stdout",
     "output_type": "stream",
     "text": [
      "\n",
      "-------------------- medium_ann_sw --------------------\n"
     ]
    },
    {
     "data": {
      "image/svg+xml": [
       "<svg xmlns=\"http://www.w3.org/2000/svg\" xmlns:ev=\"http://www.w3.org/2001/xml-events\" xmlns:xlink=\"http://www.w3.org/1999/xlink\" baseProfile=\"full\" height=\"324.0\" version=\"1.1\" width=\"744.0\"><defs/><rect fill=\"green\" height=\"280.0\" opacity=\"0.3\" stroke=\"green\" stroke-width=\"2\" width=\"700.0\" x=\"20\" y=\"20\"/><text x=\"60.0\" y=\"230.0\">i0:v1</text><rect fill=\"orange\" height=\"98.0\" opacity=\"0.3\" stroke=\"orange\" stroke-width=\"2\" width=\"98.0\" x=\"27.0\" y=\"181.0\"/><text x=\"382.0\" y=\"167.0\">i1:v1</text><rect fill=\"orange\" height=\"98.0\" opacity=\"0.3\" stroke=\"orange\" stroke-width=\"2\" width=\"98.0\" x=\"349.0\" y=\"118.0\"/></svg>"
      ],
      "text/plain": [
       "<IPython.core.display.SVG object>"
      ]
     },
     "metadata": {},
     "output_type": "display_data"
    },
    {
     "name": "stdout",
     "output_type": "stream",
     "text": [
      "\n",
      "-------------------- medium_ann_hw_dws --------------------\n"
     ]
    },
    {
     "data": {
      "image/svg+xml": [
       "<svg xmlns=\"http://www.w3.org/2000/svg\" xmlns:ev=\"http://www.w3.org/2001/xml-events\" xmlns:xlink=\"http://www.w3.org/1999/xlink\" baseProfile=\"full\" height=\"324.0\" version=\"1.1\" width=\"744.0\"><defs/><rect fill=\"green\" height=\"280.0\" opacity=\"0.3\" stroke=\"green\" stroke-width=\"2\" width=\"700.0\" x=\"20\" y=\"20\"/></svg>"
      ],
      "text/plain": [
       "<IPython.core.display.SVG object>"
      ]
     },
     "metadata": {},
     "output_type": "display_data"
    },
    {
     "name": "stdout",
     "output_type": "stream",
     "text": [
      "\n",
      "-------------------- medium_ann_hw_hyb --------------------\n"
     ]
    },
    {
     "data": {
      "image/svg+xml": [
       "<svg xmlns=\"http://www.w3.org/2000/svg\" xmlns:ev=\"http://www.w3.org/2001/xml-events\" xmlns:xlink=\"http://www.w3.org/1999/xlink\" baseProfile=\"full\" height=\"324.0\" version=\"1.1\" width=\"744.0\"><defs/><rect fill=\"green\" height=\"280.0\" opacity=\"0.3\" stroke=\"green\" stroke-width=\"2\" width=\"700.0\" x=\"20\" y=\"20\"/><text x=\"256.0\" y=\"104.0\">i1:v1</text><rect fill=\"blue\" height=\"84.0\" opacity=\"0.3\" stroke=\"blue\" stroke-width=\"2\" width=\"140.0\" x=\"202.0\" y=\"62.0\"/></svg>"
      ],
      "text/plain": [
       "<IPython.core.display.SVG object>"
      ]
     },
     "metadata": {},
     "output_type": "display_data"
    },
    {
     "name": "stdout",
     "output_type": "stream",
     "text": [
      "\n",
      "-------------------- large_mip_plain --------------------\n"
     ]
    },
    {
     "data": {
      "image/svg+xml": [
       "<svg xmlns=\"http://www.w3.org/2000/svg\" xmlns:ev=\"http://www.w3.org/2001/xml-events\" xmlns:xlink=\"http://www.w3.org/1999/xlink\" baseProfile=\"full\" height=\"324.0\" version=\"1.1\" width=\"744.0\"><defs/><rect fill=\"green\" height=\"280.0\" opacity=\"0.3\" stroke=\"green\" stroke-width=\"2\" width=\"700.0\" x=\"20\" y=\"20\"/><text x=\"39.0\" y=\"195.00000000000014\">i0:v2</text><rect fill=\"brown\" height=\"210.0\" opacity=\"0.3\" stroke=\"brown\" stroke-width=\"2\" width=\"70.0\" x=\"20.0\" y=\"90.00000000000014\"/><text x=\"123.0\" y=\"68.99999999999986\">i1:v4</text><rect fill=\"orange\" height=\"98.0\" opacity=\"0.3\" stroke=\"orange\" stroke-width=\"2\" width=\"98.0\" x=\"90.0\" y=\"19.99999999999985\"/><text x=\"242.0\" y=\"61.99999999999985\">i2:v1</text><rect fill=\"blue\" height=\"84.0\" opacity=\"0.3\" stroke=\"blue\" stroke-width=\"2\" width=\"140.0\" x=\"188.0\" y=\"19.99999999999985\"/><text x=\"164.9999999999994\" y=\"250.9999999999999\">i3:v4</text><rect fill=\"orange\" height=\"98.0\" opacity=\"0.3\" stroke=\"orange\" stroke-width=\"2\" width=\"98.0\" x=\"131.9999999999994\" y=\"201.9999999999999\"/><text x=\"262.9999999999996\" y=\"152.99999999999972\">i4:v4</text><rect fill=\"orange\" height=\"98.0\" opacity=\"0.3\" stroke=\"orange\" stroke-width=\"2\" width=\"98.0\" x=\"229.9999999999996\" y=\"103.9999999999997\"/><text x=\"262.99999999999943\" y=\"250.9999999999998\">i5:v4</text><rect fill=\"orange\" height=\"98.0\" opacity=\"0.3\" stroke=\"orange\" stroke-width=\"2\" width=\"98.0\" x=\"229.9999999999994\" y=\"201.9999999999998\"/><text x=\"431.0\" y=\"125.0\">i6:v2</text><rect fill=\"brown\" height=\"210.0\" opacity=\"0.3\" stroke=\"brown\" stroke-width=\"2\" width=\"70.0\" x=\"412.0\" y=\"20.0\"/><text x=\"143.9999999999994\" y=\"160.0\">i8:v1</text><rect fill=\"blue\" height=\"84.0\" opacity=\"0.3\" stroke=\"blue\" stroke-width=\"2\" width=\"140.0\" x=\"89.9999999999994\" y=\"118.0\"/><text x=\"361.0\" y=\"125.0\">i10:v2</text><rect fill=\"brown\" height=\"210.0\" opacity=\"0.3\" stroke=\"brown\" stroke-width=\"2\" width=\"70.0\" x=\"342.0\" y=\"20.0\"/><text x=\"501.0\" y=\"195.0\">i11:v2</text><rect fill=\"brown\" height=\"210.0\" opacity=\"0.3\" stroke=\"brown\" stroke-width=\"2\" width=\"70.0\" x=\"482.0\" y=\"90.0\"/><text x=\"571.0\" y=\"195.0\">i14:v2</text><rect fill=\"brown\" height=\"210.0\" opacity=\"0.3\" stroke=\"brown\" stroke-width=\"2\" width=\"70.0\" x=\"552.0\" y=\"90.0\"/><text x=\"655.0000000000013\" y=\"153.0000000000006\">i15:v4</text><rect fill=\"orange\" height=\"98.0\" opacity=\"0.3\" stroke=\"orange\" stroke-width=\"2\" width=\"98.0\" x=\"622.0000000000013\" y=\"104.0000000000006\"/><text x=\"655.0000000000019\" y=\"251.0000000000001\">i17:v4</text><rect fill=\"orange\" height=\"98.0\" opacity=\"0.3\" stroke=\"orange\" stroke-width=\"2\" width=\"98.0\" x=\"622.0000000000019\" y=\"202.0000000000001\"/></svg>"
      ],
      "text/plain": [
       "<IPython.core.display.SVG object>"
      ]
     },
     "metadata": {},
     "output_type": "display_data"
    },
    {
     "name": "stdout",
     "output_type": "stream",
     "text": [
      "\n",
      "-------------------- large_mip_qubo --------------------\n"
     ]
    },
    {
     "data": {
      "image/svg+xml": [
       "<svg xmlns=\"http://www.w3.org/2000/svg\" xmlns:ev=\"http://www.w3.org/2001/xml-events\" xmlns:xlink=\"http://www.w3.org/1999/xlink\" baseProfile=\"full\" height=\"324.0\" version=\"1.1\" width=\"744.0\"><defs/><rect fill=\"green\" height=\"280.0\" opacity=\"0.3\" stroke=\"green\" stroke-width=\"2\" width=\"700.0\" x=\"20\" y=\"20\"/><text x=\"584.9999999999994\" y=\"167.0\">i0:v4</text><rect fill=\"orange\" height=\"98.0\" opacity=\"0.3\" stroke=\"orange\" stroke-width=\"2\" width=\"98.0\" x=\"551.9999999999994\" y=\"118.0\"/><text x=\"584.9999999999994\" y=\"69.0\">i1:v4</text><rect fill=\"orange\" height=\"98.0\" opacity=\"0.3\" stroke=\"orange\" stroke-width=\"2\" width=\"98.0\" x=\"551.9999999999994\" y=\"20.0\"/><text x=\"549.9999999999932\" y=\"258.0\">i2:v1</text><rect fill=\"blue\" height=\"84.0\" opacity=\"0.3\" stroke=\"blue\" stroke-width=\"2\" width=\"140.0\" x=\"495.9999999999931\" y=\"216.0\"/><text x=\"668.9999999999994\" y=\"125.0\">i4:v2</text><rect fill=\"brown\" height=\"210.0\" opacity=\"0.3\" stroke=\"brown\" stroke-width=\"2\" width=\"70.0\" x=\"649.9999999999994\" y=\"20.0\"/><text x=\"486.99999999999943\" y=\"167.0\">i6:v4</text><rect fill=\"orange\" height=\"98.0\" opacity=\"0.3\" stroke=\"orange\" stroke-width=\"2\" width=\"98.0\" x=\"453.99999999999943\" y=\"118.0\"/><text x=\"332.9999999999931\" y=\"68.99999999999976\">i7:v4</text><rect fill=\"orange\" height=\"97.99999999999986\" opacity=\"0.3\" stroke=\"orange\" stroke-width=\"2\" width=\"98.00000000000001\" x=\"299.9999999999931\" y=\"19.999999999999833\"/><text x=\"430.99999999999307\" y=\"69.0\">i8:v4</text><rect fill=\"orange\" height=\"98.0\" opacity=\"0.3\" stroke=\"orange\" stroke-width=\"2\" width=\"97.99999999999994\" x=\"397.9999999999931\" y=\"20.0\"/><text x=\"178.9999999999951\" y=\"124.99999999999994\">i10:v2</text><rect fill=\"brown\" height=\"209.99999999999986\" opacity=\"0.3\" stroke=\"brown\" stroke-width=\"2\" width=\"69.99999999999868\" x=\"159.99999999999577\" y=\"20.000000000000025\"/><text x=\"332.99999999999307\" y=\"166.9999999999997\">i11:v4</text><rect fill=\"orange\" height=\"98.00000000000006\" opacity=\"0.3\" stroke=\"orange\" stroke-width=\"2\" width=\"98.0\" x=\"299.99999999999307\" y=\"117.99999999999966\"/><text x=\"248.99999999999363\" y=\"125.00000000000003\">i14:v2</text><rect fill=\"brown\" height=\"210.0\" opacity=\"0.3\" stroke=\"brown\" stroke-width=\"2\" width=\"69.99999999999899\" x=\"229.99999999999415\" y=\"20.000000000000025\"/><text x=\"38.999999999998536\" y=\"125.0\">i15:v2</text><rect fill=\"brown\" height=\"210.0\" opacity=\"0.3\" stroke=\"brown\" stroke-width=\"2\" width=\"69.99999999999862\" x=\"19.99999999999923\" y=\"20.0\"/><text x=\"108.99999999999682\" y=\"125.0\">i17:v2</text><rect fill=\"brown\" height=\"210.0\" opacity=\"0.3\" stroke=\"brown\" stroke-width=\"2\" width=\"69.99999999999862\" x=\"89.99999999999751\" y=\"20.0\"/></svg>"
      ],
      "text/plain": [
       "<IPython.core.display.SVG object>"
      ]
     },
     "metadata": {},
     "output_type": "display_data"
    },
    {
     "name": "stdout",
     "output_type": "stream",
     "text": [
      "\n",
      "-------------------- large_ann_sw --------------------\n"
     ]
    },
    {
     "data": {
      "image/svg+xml": [
       "<svg xmlns=\"http://www.w3.org/2000/svg\" xmlns:ev=\"http://www.w3.org/2001/xml-events\" xmlns:xlink=\"http://www.w3.org/1999/xlink\" baseProfile=\"full\" height=\"324.0\" version=\"1.1\" width=\"744.0\"><defs/><rect fill=\"green\" height=\"280.0\" opacity=\"0.3\" stroke=\"green\" stroke-width=\"2\" width=\"700.0\" x=\"20\" y=\"20\"/><text x=\"445.0\" y=\"258.0\">i4:v4</text><rect fill=\"orange\" height=\"98.0\" opacity=\"0.3\" stroke=\"orange\" stroke-width=\"2\" width=\"28.0\" x=\"447.0\" y=\"209.0\"/><text x=\"375.0\" y=\"132.0\">i7:v4</text><rect fill=\"orange\" height=\"105.0\" opacity=\"0.3\" stroke=\"orange\" stroke-width=\"2\" width=\"0.0\" x=\"391.0\" y=\"79.5\"/></svg>"
      ],
      "text/plain": [
       "<IPython.core.display.SVG object>"
      ]
     },
     "metadata": {},
     "output_type": "display_data"
    },
    {
     "name": "stdout",
     "output_type": "stream",
     "text": [
      "\n",
      "-------------------- large_ann_hw_hyb --------------------\n"
     ]
    },
    {
     "data": {
      "image/svg+xml": [
       "<svg xmlns=\"http://www.w3.org/2000/svg\" xmlns:ev=\"http://www.w3.org/2001/xml-events\" xmlns:xlink=\"http://www.w3.org/1999/xlink\" baseProfile=\"full\" height=\"324.0\" version=\"1.1\" width=\"744.0\"><defs/><rect fill=\"green\" height=\"280.0\" opacity=\"0.3\" stroke=\"green\" stroke-width=\"2\" width=\"700.0\" x=\"20\" y=\"20\"/><text x=\"228.0\" y=\"48.0\">i6:v4</text><rect fill=\"orange\" height=\"21.0\" opacity=\"0.3\" stroke=\"orange\" stroke-width=\"2\" width=\"77.0\" x=\"205.5\" y=\"37.5\"/><text x=\"396.0\" y=\"244.0\">i11:v1</text><rect fill=\"blue\" height=\"0.0\" opacity=\"0.3\" stroke=\"blue\" stroke-width=\"2\" width=\"105.0\" x=\"359.5\" y=\"244.0\"/><text x=\"277.0\" y=\"83.0\">i12:v4</text><rect fill=\"orange\" height=\"21.0\" opacity=\"0.3\" stroke=\"orange\" stroke-width=\"2\" width=\"77.0\" x=\"254.5\" y=\"72.5\"/></svg>"
      ],
      "text/plain": [
       "<IPython.core.display.SVG object>"
      ]
     },
     "metadata": {},
     "output_type": "display_data"
    }
   ],
   "source": [
    "import os\n",
    "\n",
    "for problem_name, problem_method_dict in all_cfg.items():\n",
    "    problem = problem_method_dict['problem']\n",
    "    methods = problem_method_dict['methods']\n",
    "    for m in methods:\n",
    "        print('\\n-------------------- ' + problem_name + '_' + m + ' --------------------')\n",
    "        svg_filename = '{:s}_{:s}_{:s}.svg'.format(filename_prefix, problem_name, m)\n",
    "        # We assume the filename svg_filename has been written to disk before by running\n",
    "        # the above at least once for each of the values ''small', 'medium' and 'large' for problem before.\n",
    "        if os.path.exists(svg_filename):\n",
    "            display(SVG(svg_filename))\n",
    "        else:\n",
    "            print(\"File '{:s}' does not exist (yet).\".format(svg_filename))"
   ]
  },
  {
   "cell_type": "markdown",
   "metadata": {
    "scrolled": true
   },
   "source": [
    "# Results Summary\n",
    "\n",
    "From the svg pictures in the previous cell we can summarize the results as follows.\n",
    "\n",
    "For the small problem we get valid solutions for all methods except for small_ann_hw_dws\n",
    "small_mip_plain: valid, optimal :)\n",
    "small_mip_qubo: valid, optimal :)\n",
    "small_ann_sw: valid, suboptimal :|\n",
    "small_ann_hw_cliq: valid, suboptimal :|\n",
    "small_ann_hw_dws: invalid :(\n",
    "small_ann_hw_hyb: valid, optimal :)\n",
    "\n",
    "For the medium problem we get valid solutions: \n",
    "medium_mip_plain: valid, optimal :)\n",
    "medium_mip_qubo: valid, optimal :)\n",
    "medium_ann_sw: valid, optimal :)\n",
    "medium_ann_hw_cliq: not enough qubits, :(\n",
    "medium_ann_hw_dws: valid, suboptimal (0 tables placed) :|\n",
    "medium_ann_hw_hyb: valid, suboptimal :|\n",
    "\n",
    "For the large problem we get valid solutions: \n",
    "large_mip_plain: valid, optimal(13 tables placed) :)\n",
    "large_mip_qubo: valid, optimal(12 tables placed) :)\n",
    "large_ann_sw: invalid :( \n",
    "large_ann_hw_cliq: not enough qubits, :(\n",
    "large_ann_hw_dws: no embedding solution found :(\n",
    "large_ann_hw_hyb: invalid :(\n",
    "\n",
    "\n",
    "\n",
    "# Conclusions for now, for this problem type\n",
    "\n",
    "## The MIP methods return solutions that were always valid. \n",
    "\n",
    "This is natural for the mip_plain methods since it encodes the hard constraints as ... well... hard oncstrainst, so no solution can come out that does not respect these hard constraints. \n",
    "\n",
    "This is less obvious for the mip_qubo method, since the hard mip_plain constraints are are here formulated as terms of type p * (f(x)-c)^2 terms in the objective function. Nevertheless, in this notebook, for all 3 problems (small, medium, large) we get valid solutions returned (in the sense that these p * (f(x)-c)^2 are all zero.\n",
    "\n",
    "## Annealing methods can return valid solutions but more often returned invalid ones\n",
    "\n",
    "For the annealing methods, I have set up the same objective function as for mip_qubo (for which all three problems give good solutions on a classical computer: my laptop, running the Gurobi solver). So one would expect that when one encodes this same expression on a quantum computer (or software(sw)-simulator, for method 'ana_sw'), one would get valid solutions as well. However, as seen above, there are constraints violated (reported by the same tool pyqubo that sets up these constraints for me) in the returned solutions.\n",
    "This can have to do with 'only' sampling a 1000 samples from the quantum machine and so not obtaining the fully optimal sample with the very lowest energy (where (f(x)-c)^2 should all be zero).\n",
    "\n",
    "For now, for this kind of problems, where one has hard constraints in the mip, it still seems\n",
    "an easier path to guaranteed valid solutions.\n",
    "\n",
    "I would of course be interested in knowing how to avoid invalid solutions if anyone has tips...\n",
    "\n",
    "best,\n",
    "\n",
    "Peter"
   ]
  }
 ],
 "metadata": {
  "kernelspec": {
   "display_name": "Python 3",
   "language": "python",
   "name": "python3"
  },
  "language_info": {
   "codemirror_mode": {
    "name": "ipython",
    "version": 3
   },
   "file_extension": ".py",
   "mimetype": "text/x-python",
   "name": "python",
   "nbconvert_exporter": "python",
   "pygments_lexer": "ipython3",
   "version": "3.8.7"
  },
  "toc": {
   "base_numbering": 1,
   "nav_menu": {},
   "number_sections": true,
   "sideBar": true,
   "skip_h1_title": false,
   "title_cell": "Table of Contents",
   "title_sidebar": "Contents",
   "toc_cell": false,
   "toc_position": {
    "height": "calc(100% - 180px)",
    "left": "10px",
    "top": "150px",
    "width": "523.594px"
   },
   "toc_section_display": true,
   "toc_window_display": true
  },
  "varInspector": {
   "cols": {
    "lenName": 16,
    "lenType": 16,
    "lenVar": 40
   },
   "kernels_config": {
    "python": {
     "delete_cmd_postfix": "",
     "delete_cmd_prefix": "del ",
     "library": "var_list.py",
     "varRefreshCmd": "print(var_dic_list())"
    },
    "r": {
     "delete_cmd_postfix": ") ",
     "delete_cmd_prefix": "rm(",
     "library": "var_list.r",
     "varRefreshCmd": "cat(var_dic_list()) "
    }
   },
   "types_to_exclude": [
    "module",
    "function",
    "builtin_function_or_method",
    "instance",
    "_Feature"
   ],
   "window_display": false
  }
 },
 "nbformat": 4,
 "nbformat_minor": 4
}
